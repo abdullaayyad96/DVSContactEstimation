{
 "cells": [
  {
   "cell_type": "code",
   "execution_count": 1,
   "metadata": {},
   "outputs": [],
   "source": [
    "#import modules\n",
    "import matplotlib.pyplot as plt\n",
    "import matplotlib.image as mpimg\n",
    "import numpy as np\n",
    "import sys\n",
    "import h5py\n",
    "import tensorflow.compat.v1 as tf\n",
    "import tensorflow as tf2\n",
    "\n",
    "from DlModels import DlModels\n",
    "from TrainDL import TrainDL\n",
    "from DataLoader import DataLoader"
   ]
  },
  {
   "cell_type": "code",
   "execution_count": null,
   "metadata": {
    "tags": []
   },
   "outputs": [],
   "source": [
    "data_loader = DataLoader('17_point_single_frame_processed_data_new_prototype.hdf5')\n",
    "%matplotlib inline  \n",
    "i=0\n",
    "obj = []\n",
    "for image, output in data_loader.load_all():\n",
    "    if i==0:\n",
    "        obj = plt.imshow(image[:,:,0])\n",
    "    else:\n",
    "        obj.set_data(image)\n",
    "    plt.show()\n"
   ]
  },
  {
   "cell_type": "code",
   "execution_count": null,
   "metadata": {
    "tags": []
   },
   "outputs": [],
   "source": [
    "tf.test.is_gpu_available()"
   ]
  },
  {
   "cell_type": "code",
   "execution_count": null,
   "metadata": {},
   "outputs": [],
   "source": [
    "tf.config.list_physical_devices('GPU')\n",
    "physical_devices = tf.config.list_physical_devices('GPU')\n",
    "tf.config.experimental.set_memory_growth(physical_devices[0], True)\n",
    "tf.keras.backend.set_floatx('float32') #for memory use"
   ]
  },
  {
   "cell_type": "code",
   "execution_count": 2,
   "metadata": {
    "tags": []
   },
   "outputs": [
    {
     "name": "stderr",
     "output_type": "stream",
     "text": [
      "/home/kucarst3-dlws/Desktop/Ayyad/DVSContactEstimation/DataLoader.py:11: H5pyDeprecationWarning: The default file mode will change to 'r' (read-only) in h5py 3.0. To suppress this warning, pass the mode you need to h5py.File(), or set the global default h5.get_config().default_file_mode, or set the environment variable H5PY_DEFAULT_READONLY=1. Available modes are: 'r', 'r+', 'w', 'w-'/'x', 'a'. See the docs for details.\n",
      "  self.data_ = h5py.File(filename)\n"
     ]
    },
    {
     "name": "stdout",
     "output_type": "stream",
     "text": [
      "WARNING:tensorflow:From /home/kucarst3-dlws/anaconda3/envs/ayyad_tf/lib/python3.6/site-packages/tensorflow/python/ops/resource_variable_ops.py:1666: calling BaseResourceVariable.__init__ (from tensorflow.python.ops.resource_variable_ops) with constraint is deprecated and will be removed in a future version.\n",
      "Instructions for updating:\n",
      "If using Keras pass *_constraint arguments to layers.\n"
     ]
    }
   ],
   "source": [
    "#import modules\n",
    "epochs = 20\n",
    "batch_size = 100\n",
    "base_learning_rate = 0.0005\n",
    "learning_decay_rate = 10\n",
    "learning_decay_factor = 0.5\n",
    "data_loader = DataLoader('17_point_single_frame_processed_data.hdf5')\n",
    "data_loader.divide_data()\n",
    "\n",
    "tf.compat.v1.disable_eager_execution()\n",
    "input_image = tf.placeholder(tf.float32, [None, None, None, None, 1], name='input_image')\n",
    "initial_hidden_state = tf.placeholder(tf.float32, [None, 29, 39, 20], name='initial_hidden_state')\n",
    "initial_carry_state = tf.placeholder(tf.float32, [None, 29, 39, 20], name='initial_carry_state')\n",
    "#initial_hidden_state = tf.placeholder(tf.float32, [None, 10, 13, 20], name='initial_hidden_state')\n",
    "#initial_carry_state = tf.placeholder(tf.float32, [None, 10, 13, 20], name='initial_carry_state')\n",
    "#grount_truth = tf.placeholder(tf.float32, [None, None, 18])\n",
    "grount_truth = tf.placeholder(tf.float32, [None, None, 18], name='ground_truth')\n",
    "learning_rate = tf.placeholder(tf.float32, shape=(), name='learning_rate')\n",
    "\n",
    "sess = tf.Session()\n",
    "\n",
    "# Build NN using load_vgg, layers, and optimize function\n",
    "#nn_last_layer, hidden_state, carry_state = DlModels.Conv2dx2LSTMFC(input_image, initial_hidden_state, initial_carry_state, encoder=DlModels.Conv2Dx1, N_outputs=18)\n",
    "nn_last_layer, hidden_state, carry_state = DlModels.Conv2dx2LSTMFC_sequence(input_image, initial_hidden_state, initial_carry_state, encoder=DlModels.Conv2Dx1, N_outputs=18)\n",
    "\n",
    "#train_op, loss = TrainDL.SoftEntropy(nn_last_layer, grount_truth, learning_rate)\n",
    "train_op, loss = TrainDL.SoftEntropy(nn_last_layer, grount_truth, learning_rate)\n",
    "\n",
    "#accuracy\n",
    "correct_prediction = tf.equal(tf.argmax(nn_last_layer[:,-1,:], 1), tf.argmax(grount_truth[:,-1,:], 1))\n",
    "accuracy_op = tf.reduce_mean(tf.cast(correct_prediction, tf.float32), name='accuracy_operation')\n",
    "\n"
   ]
  },
  {
   "cell_type": "code",
   "execution_count": 3,
   "metadata": {},
   "outputs": [
    {
     "name": "stdout",
     "output_type": "stream",
     "text": [
      "Training...\n",
      "\n",
      "EPOCH 1 ...\n",
      "Train Accuracy 0.05054245237261057 ...\n",
      "Validation Accuracy [0.086419754] ...\n",
      "EPOCH 2 ...\n",
      "Train Accuracy 0.14608490467071533 ...\n",
      "Validation Accuracy [0.15432099] ...\n",
      "EPOCH 3 ...\n",
      "Train Accuracy 0.19733490608632565 ...\n",
      "Validation Accuracy [0.12962963] ...\n",
      "EPOCH 4 ...\n",
      "Train Accuracy 0.31160377711057663 ...\n",
      "Validation Accuracy [0.25308642] ...\n",
      "EPOCH 5 ...\n",
      "Train Accuracy 0.3684198148548603 ...\n",
      "Validation Accuracy [0.2345679] ...\n",
      "EPOCH 6 ...\n",
      "Train Accuracy 0.4250471703708172 ...\n",
      "Validation Accuracy [0.33333334] ...\n",
      "EPOCH 7 ...\n",
      "Train Accuracy 0.4947877302765846 ...\n",
      "Validation Accuracy [0.41975307] ...\n",
      "EPOCH 8 ...\n",
      "Train Accuracy 0.6092452891170979 ...\n",
      "Validation Accuracy [0.37654322] ...\n",
      "EPOCH 9 ...\n",
      "Train Accuracy 0.702948123216629 ...\n",
      "Validation Accuracy [0.56790125] ...\n",
      "EPOCH 10 ...\n",
      "Train Accuracy 0.7664150968194008 ...\n",
      "Validation Accuracy [0.5802469] ...\n",
      "EPOCH 11 ...\n",
      "Train Accuracy 0.8469811454415321 ...\n",
      "Validation Accuracy [0.6234568] ...\n",
      "EPOCH 12 ...\n",
      "Train Accuracy 0.8836320787668228 ...\n",
      "Validation Accuracy [0.6728395] ...\n",
      "EPOCH 13 ...\n",
      "Train Accuracy 0.9180660396814346 ...\n",
      "Validation Accuracy [0.6851852] ...\n",
      "EPOCH 14 ...\n",
      "Train Accuracy 0.9476415142416954 ...\n",
      "Validation Accuracy [0.69753087] ...\n",
      "EPOCH 15 ...\n",
      "Train Accuracy 0.9651415124535561 ...\n",
      "Validation Accuracy [0.7345679] ...\n",
      "EPOCH 16 ...\n",
      "Train Accuracy 0.9825000092387199 ...\n",
      "Validation Accuracy [0.7222222] ...\n",
      "EPOCH 17 ...\n",
      "Train Accuracy 0.9825000092387199 ...\n",
      "Validation Accuracy [0.72839504] ...\n",
      "EPOCH 18 ...\n",
      "Train Accuracy 0.9900000020861626 ...\n",
      "Validation Accuracy [0.72839504] ...\n",
      "EPOCH 19 ...\n",
      "Train Accuracy 0.9950000047683716 ...\n",
      "Validation Accuracy [0.72839504] ...\n",
      "EPOCH 20 ...\n",
      "Train Accuracy 0.9975000023841858 ...\n",
      "Validation Accuracy [0.7345679] ...\n"
     ]
    },
    {
     "data": {
      "text/plain": [
       "'./model'"
      ]
     },
     "execution_count": 3,
     "metadata": {},
     "output_type": "execute_result"
    }
   ],
   "source": [
    "# Train NN using the train_nn function\n",
    "TrainDL.train_nn(sess, epochs, nn_last_layer, hidden_state, carry_state, batch_size, data_loader, accuracy_op, train_op, loss, input_image, grount_truth, initial_hidden_state, initial_carry_state, learning_rate, base_learning_rate, learning_decay_rate, learning_decay_factor)\n",
    "        \n",
    "# save trained model\n",
    "saver = tf.train.Saver()\n",
    "saver.save(sess, './model')"
   ]
  },
  {
   "cell_type": "code",
   "execution_count": null,
   "metadata": {},
   "outputs": [],
   "source": [
    "sess = tf.Session()\n",
    "tf.disable_eager_execution()\n",
    "saver = tf.train.import_meta_graph('./model.meta')\n",
    "[n.name for n in tf.get_default_graph().as_graph_def().node]\n",
    "g = tf.train.latest_checkpoint('./')\n",
    "saver.restore(sess, tf.train.latest_checkpoint('./')) \n",
    "\n",
    "accuracy_op = tf.get_default_graph().get_tensor_by_name(\"accuracy_operation:0\")\n",
    "\n",
    "input_image = tf.get_default_graph().get_tensor_by_name(\"input_image:0\")\n",
    "grount_truth = tf.get_default_graph().get_tensor_by_name('ground_truth:0')\n",
    "initial_hidden_state = tf.get_default_graph().get_tensor_by_name('initial_hidden_state:0')\n",
    "initial_carry_state = tf.get_default_graph().get_tensor_by_name('initial_carry_state:0')\n",
    "nn_last_layer = tf.get_default_graph().get_tensor_by_name(\"nn_last_layer:0\")\n",
    "hidden_state = tf.get_default_graph().get_tensor_by_name(\"hidden_state:0\")\n",
    "carry_state = tf.get_default_graph().get_tensor_by_name(\"carry_state:0\")"
   ]
  },
  {
   "cell_type": "code",
   "execution_count": null,
   "metadata": {},
   "outputs": [],
   "source": [
    "sess = tf.Session()\n",
    "tf.disable_eager_execution()\n",
    "saver = tf.train.Saver()\n",
    "saver.restore(sess, tf.train.latest_checkpoint('./')) "
   ]
  },
  {
   "cell_type": "code",
   "execution_count": 4,
   "metadata": {},
   "outputs": [
    {
     "name": "stdout",
     "output_type": "stream",
     "text": [
      "[0.3773585]\n"
     ]
    }
   ],
   "source": [
    "data_loader = DataLoader('test_set.hdf5')\n",
    "data_loader.divide_data(train_percentage=0.05, valid_percentage=0.05, test_percentage=0.9)\n",
    "x_train, y_train, test_size = data_loader.get_test_data_sequence()\n",
    "initial_state_value = np.zeros(shape=(test_size, 29, 39, 20), dtype=float)\n",
    "\n",
    "test_accuracy = sess.run([accuracy_op],\n",
    "                    feed_dict={input_image: x_train, grount_truth: y_train, initial_hidden_state: initial_state_value, initial_carry_state: initial_state_value})\n",
    "print(test_accuracy)"
   ]
  },
  {
   "cell_type": "code",
   "execution_count": 10,
   "metadata": {},
   "outputs": [
    {
     "name": "stdout",
     "output_type": "stream",
     "text": [
      "[0 0 0 0 0 0 0 0 7 7 7 7 7 7 7]\n",
      "[0, 0, 0, 0, 0, 0, 0, 0, 0, 4, 7, 7, 7, 4, 4]\n"
     ]
    },
    {
     "name": "stderr",
     "output_type": "stream",
     "text": [
      "/home/kucarst3-dlws/anaconda3/envs/ayyad_tf/lib/python3.6/site-packages/ipykernel_launcher.py:25: UserWarning: Legend does not support 't' instances.\n",
      "A proxy artist may be used instead.\n",
      "See: https://matplotlib.org/users/legend_guide.html#creating-artists-specifically-for-adding-to-the-legend-aka-proxy-artists\n",
      "/home/kucarst3-dlws/anaconda3/envs/ayyad_tf/lib/python3.6/site-packages/ipykernel_launcher.py:25: UserWarning: Legend does not support 'r' instances.\n",
      "A proxy artist may be used instead.\n",
      "See: https://matplotlib.org/users/legend_guide.html#creating-artists-specifically-for-adding-to-the-legend-aka-proxy-artists\n",
      "/home/kucarst3-dlws/anaconda3/envs/ayyad_tf/lib/python3.6/site-packages/ipykernel_launcher.py:25: UserWarning: Legend does not support 'u' instances.\n",
      "A proxy artist may be used instead.\n",
      "See: https://matplotlib.org/users/legend_guide.html#creating-artists-specifically-for-adding-to-the-legend-aka-proxy-artists\n",
      "/home/kucarst3-dlws/anaconda3/envs/ayyad_tf/lib/python3.6/site-packages/ipykernel_launcher.py:25: UserWarning: Legend does not support 'e' instances.\n",
      "A proxy artist may be used instead.\n",
      "See: https://matplotlib.org/users/legend_guide.html#creating-artists-specifically-for-adding-to-the-legend-aka-proxy-artists\n"
     ]
    },
    {
     "data": {
      "image/png": "[encoded data removed]",
      "text/plain": [
       "<Figure size 432x288 with 1 Axes>"
      ]
     },
     "metadata": {
      "needs_background": "light"
     },
     "output_type": "display_data"
    }
   ],
   "source": [
    "#Test step by step\n",
    "z = []\n",
    "idx = 5\n",
    "\n",
    "x_train, y_train, test_size = data_loader.get_test_data_sequence()\n",
    "final_hidden_state = []\n",
    "final_carry_state = []\n",
    "\n",
    "for i in range(len(x_train[idx])):\n",
    "    if i==0:        \n",
    "        initial_hidden_state_value = np.zeros(shape=(1, 29, 39, 20), dtype=float)\n",
    "        initial_carry_state_value = np.zeros(shape=(1, 29, 39, 20), dtype=float)\n",
    "    else:\n",
    "        initial_hidden_state_value = final_hidden_state\n",
    "        initial_carry_state_value = final_carry_state\n",
    "    last_layer, final_hidden_state, final_carry_state = sess.run([nn_last_layer, hidden_state, carry_state], \n",
    "                                feed_dict={input_image: [[x_train[idx][i]]], initial_hidden_state: initial_hidden_state_value, initial_carry_state: initial_carry_state_value})\n",
    "    g = np.argmax(last_layer.reshape(-1), 0)    \n",
    "    z.append(g)\n",
    "    \n",
    "print(np.argmax(y_train[idx, :, :], axis=1))\n",
    "print(z)\n",
    "plt.plot(np.argmax(y_train[idx, :, :], axis=1))\n",
    "plt.plot(z)\n",
    "plt.legend('true', 'lstm')\n",
    "plt.show()\n",
    "    \n",
    "    "
   ]
  },
  {
   "cell_type": "code",
   "execution_count": null,
   "metadata": {},
   "outputs": [],
   "source": [
    "plt.imshow(x_train[idx][0])"
   ]
  },
  {
   "cell_type": "code",
   "execution_count": null,
   "metadata": {},
   "outputs": [],
   "source": [
    "print(g.eval())"
   ]
  },
  {
   "cell_type": "code",
   "execution_count": null,
   "metadata": {},
   "outputs": [],
   "source": [
    "x = tf2.ones(shape=(5, 3, 5))\n",
    "print(tf.shape(x))\n",
    "print(tf.shape(x[:,-1,:]))"
   ]
  }
 ],
 "metadata": {
  "kernelspec": {
   "display_name": "Python 3.6.9 64-bit",
   "language": "python",
   "name": "python36964bit42cfdd42f3ee49b6bf93335b6b0cdf92"
  },
  "language_info": {
   "codemirror_mode": {
    "name": "ipython",
    "version": 3
   },
   "file_extension": ".py",
   "mimetype": "text/x-python",
   "name": "python",
   "nbconvert_exporter": "python",
   "pygments_lexer": "ipython3",
   "version": "3.6.9-final"
  }
 },
 "nbformat": 4,
 "nbformat_minor": 2
}