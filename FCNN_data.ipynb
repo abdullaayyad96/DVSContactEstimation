{
 "cells": [
  {
   "cell_type": "code",
   "execution_count": 1,
   "metadata": {},
   "outputs": [],
   "source": [
    "#import modules\n",
    "import matplotlib.pyplot as plt\n",
    "import matplotlib.image as mpimg\n",
    "import numpy as np\n",
    "import sys\n",
    "import h5py\n",
    "import tensorflow.compat.v1 as tf\n",
    "import tensorflow as tf2\n",
    "\n",
    "from DlModels import DlModels\n",
    "from TrainDL import TrainDL\n",
    "from DataLoader import DataLoader"
   ]
  },
  {
   "cell_type": "code",
   "execution_count": 2,
   "metadata": {
    "tags": []
   },
   "outputs": [
    {
     "output_type": "stream",
     "name": "stdout",
     "text": "WARNING:tensorflow:From <ipython-input-2-17bb7203622b>:1: is_gpu_available (from tensorflow.python.framework.test_util) is deprecated and will be removed in a future version.\nInstructions for updating:\nUse `tf.config.list_physical_devices('GPU')` instead.\n"
    },
    {
     "output_type": "execute_result",
     "data": {
      "text/plain": "False"
     },
     "metadata": {},
     "execution_count": 2
    }
   ],
   "source": [
    "tf.test.is_gpu_available()"
   ]
  },
  {
   "cell_type": "code",
   "execution_count": null,
   "metadata": {},
   "outputs": [],
   "source": [
    "tf.config.list_physical_devices('GPU')\n",
    "physical_devices = tf.config.list_physical_devices('GPU')\n",
    "tf.config.experimental.set_memory_growth(physical_devices[0], True)\n",
    "tf.keras.backend.set_floatx('float32') #for memory use"
   ]
  },
  {
   "cell_type": "code",
   "execution_count": 5,
   "metadata": {
    "tags": []
   },
   "outputs": [
    {
     "output_type": "stream",
     "name": "stderr",
     "text": "/home/abdulla/Insync/KU/codes/AI/DL_for_DVS/contact_est/DataLoader.py:9: H5pyDeprecationWarning: The default file mode will change to 'r' (read-only) in h5py 3.0. To suppress this warning, pass the mode you need to h5py.File(), or set the global default h5.get_config().default_file_mode, or set the environment variable H5PY_DEFAULT_READONLY=1. Available modes are: 'r', 'r+', 'w', 'w-'/'x', 'a'. See the docs for details.\n  self.data_ = h5py.File(filename)\n"
    },
    {
     "output_type": "error",
     "ename": "AttributeError",
     "evalue": "'DataLoader' object has no attribute 'load_all'",
     "traceback": [
      "\u001b[0;31m---------------------------------------------------------------------------\u001b[0m",
      "\u001b[0;31mAttributeError\u001b[0m                            Traceback (most recent call last)",
      "\u001b[0;32m<ipython-input-5-338b5c74bbdd>\u001b[0m in \u001b[0;36m<module>\u001b[0;34m\u001b[0m\n\u001b[1;32m      2\u001b[0m \u001b[0mdata_loader\u001b[0m \u001b[0;34m=\u001b[0m \u001b[0mDataLoader\u001b[0m\u001b[0;34m(\u001b[0m\u001b[0;34m'event_frame_data.hdf5'\u001b[0m\u001b[0;34m)\u001b[0m\u001b[0;34m\u001b[0m\u001b[0;34m\u001b[0m\u001b[0m\n\u001b[1;32m      3\u001b[0m \u001b[0;34m\u001b[0m\u001b[0m\n\u001b[0;32m----> 4\u001b[0;31m \u001b[0mevent_images\u001b[0m\u001b[0;34m,\u001b[0m \u001b[0mdepth_images\u001b[0m\u001b[0;34m,\u001b[0m \u001b[0mmask_1\u001b[0m\u001b[0;34m,\u001b[0m \u001b[0mmask_2\u001b[0m \u001b[0;34m=\u001b[0m \u001b[0mdata_loader\u001b[0m\u001b[0;34m.\u001b[0m\u001b[0mload_all\u001b[0m\u001b[0;34m(\u001b[0m\u001b[0;34m)\u001b[0m\u001b[0;34m\u001b[0m\u001b[0;34m\u001b[0m\u001b[0m\n\u001b[0m\u001b[1;32m      5\u001b[0m \u001b[0;34m\u001b[0m\u001b[0m\n\u001b[1;32m      6\u001b[0m \u001b[0mfig\u001b[0m \u001b[0;34m=\u001b[0m \u001b[0mplt\u001b[0m\u001b[0;34m.\u001b[0m\u001b[0mfigure\u001b[0m\u001b[0;34m(\u001b[0m\u001b[0;34m)\u001b[0m\u001b[0;34m\u001b[0m\u001b[0;34m\u001b[0m\u001b[0m\n",
      "\u001b[0;31mAttributeError\u001b[0m: 'DataLoader' object has no attribute 'load_all'"
     ]
    }
   ],
   "source": [
    "#test batching\n",
    "data_loader = DataLoader('event_frame_data.hdf5')\n",
    "\n",
    "event_images, depth_images, mask_1, mask_2 = data_loader.load_all()\n",
    "\n",
    "fig = plt.figure()\n",
    "ax = fig.add_subplot(2, 2, 1)\n",
    "ax.imshow(np.array(event_images[10][:,:,0:3]))\n",
    "ax.autoscale(True)\n",
    "ax2 = fig.add_subplot(2, 2, 2, sharex=ax, sharey=ax)\n",
    "ax2.imshow(np.array(depth_images[10]))\n",
    "ax2.autoscale(True)\n",
    "ax3 = fig.add_subplot(2, 2, 3, sharex=ax, sharey=ax)\n",
    "ax3.imshow(np.array(mask_1[10]))\n",
    "ax3.autoscale(True)\n",
    "ax4 = fig.add_subplot(2, 2, 4, sharex=ax, sharey=ax)\n",
    "ax4.imshow(np.array(mask_2[10]))\n",
    "ax4.autoscale(True)\n",
    "plt.show()\n"
   ]
  },
  {
   "cell_type": "code",
   "execution_count": 2,
   "metadata": {
    "tags": []
   },
   "outputs": [
    {
     "output_type": "stream",
     "name": "stdout",
     "text": "WARNING:tensorflow:From /home/abdulla/.local/lib/python3.6/site-packages/tensorflow_core/python/ops/resource_variable_ops.py:1635: calling BaseResourceVariable.__init__ (from tensorflow.python.ops.resource_variable_ops) with constraint is deprecated and will be removed in a future version.\nInstructions for updating:\nIf using Keras pass *_constraint arguments to layers.\n/home/abdulla/Insync/KU/codes/AI/DL_for_DVS/contact_est/DataLoader.py:10: H5pyDeprecationWarning: The default file mode will change to 'r' (read-only) in h5py 3.0. To suppress this warning, pass the mode you need to h5py.File(), or set the global default h5.get_config().default_file_mode, or set the environment variable H5PY_DEFAULT_READONLY=1. Available modes are: 'r', 'r+', 'w', 'w-'/'x', 'a'. See the docs for details.\n  self.data_ = h5py.File(filename)\nTraining...\n\nEPOCH 1 ...\nBatch 1 ...\nAccuracy [0.5] ...\nBatch 1 ...\nAccuracy [0.1] ...\nBatch 1 ...\nAccuracy [0.2] ...\nBatch 1 ...\nAccuracy [0.2] ...\nBatch 1 ...\nAccuracy [0.2] ...\nBatch 1 ...\nAccuracy [0.0] ...\nBatch 1 ...\nAccuracy [0.2] ...\nBatch 1 ...\nAccuracy [0.2] ...\nBatch 1 ...\nAccuracy [0.3] ...\nBatch 1 ...\nAccuracy [0.0] ...\nBatch 1 ...\nAccuracy [0.1] ...\nBatch 1 ...\n"
    }
   ],
   "source": [
    "epochs = 10\n",
    "batch_size = 10\n",
    "base_learning_rate = 0.01\n",
    "learning_decay_rate = 30\n",
    "learning_decay_factor = 0.5\n",
    "data_loader = DataLoader('processed_data_10_Hz.hdf5')\n",
    "\n",
    "tf.compat.v1.disable_eager_execution()\n",
    "input_image = tf.placeholder(tf.float32, [None, None, 260, 346, 3], name='input_image')\n",
    "grount_truth = tf.placeholder(tf.float32, [None, 6])\n",
    "learning_rate = tf.placeholder(tf.float32, shape=(), name='learning_rate')\n",
    "\n",
    "sess = tf.Session()\n",
    "\n",
    "# Build NN using load_vgg, layers, and optimize function\n",
    "nn_last_layer = DlModels.Conv2dx2LSTMFC(input_image, encoder=DlModels.Conv2Dx1, N_outputs=6)\n",
    "\n",
    "train_op, loss = TrainDL.SoftEntropy(nn_last_layer, grount_truth, learning_rate)\n",
    "\n",
    "#accuracy\n",
    "correct_prediction = tf.equal(tf.argmax(nn_last_layer, 1), tf.argmax(grount_truth, 1))\n",
    "accuracy_op = tf.reduce_mean(tf.cast(correct_prediction, tf.float32), name='accuracy_operation')\n",
    "\n",
    "# Train NN using the train_nn function\n",
    "TrainDL.train_nn(sess, epochs, batch_size, data_loader, accuracy_op, train_op, loss, input_image, grount_truth, learning_rate, base_learning_rate, learning_decay_rate, learning_decay_factor)\n",
    "        \n",
    "# save trained model\n",
    "saver = tf.train.Saver()\n",
    "saver.save(sess, './model')"
   ]
  }
 ],
 "metadata": {
  "kernelspec": {
   "display_name": "Python 3",
   "language": "python",
   "name": "python3"
  },
  "language_info": {
   "codemirror_mode": {
    "name": "ipython",
    "version": 3
   },
   "file_extension": ".py",
   "mimetype": "text/x-python",
   "name": "python",
   "nbconvert_exporter": "python",
   "pygments_lexer": "ipython3",
   "version": "3.6.9-final"
  }
 },
 "nbformat": 4,
 "nbformat_minor": 2
}