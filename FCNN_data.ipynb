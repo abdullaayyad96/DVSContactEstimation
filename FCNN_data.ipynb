{
 "cells": [
  {
   "cell_type": "code",
   "execution_count": 1,
   "metadata": {},
   "outputs": [],
   "source": [
    "#import modules\n",
    "import matplotlib.pyplot as plt\n",
    "import matplotlib.image as mpimg\n",
    "import numpy as np\n",
    "import sys\n",
    "import h5py\n",
    "import tensorflow.compat.v1 as tf\n",
    "import tensorflow as tf2\n",
    "\n",
    "from DlModels import DlModels\n",
    "from TrainDL import TrainDL\n",
    "from DataLoader import DataLoader"
   ]
  },
  {
   "cell_type": "code",
   "execution_count": 2,
   "metadata": {
    "tags": []
   },
   "outputs": [
    {
     "output_type": "stream",
     "name": "stdout",
     "text": "WARNING:tensorflow:From <ipython-input-2-17bb7203622b>:1: is_gpu_available (from tensorflow.python.framework.test_util) is deprecated and will be removed in a future version.\nInstructions for updating:\nUse `tf.config.list_physical_devices('GPU')` instead.\n"
    },
    {
     "output_type": "execute_result",
     "data": {
      "text/plain": "False"
     },
     "metadata": {},
     "execution_count": 2
    }
   ],
   "source": [
    "tf.test.is_gpu_available()"
   ]
  },
  {
   "cell_type": "code",
   "execution_count": null,
   "metadata": {},
   "outputs": [],
   "source": [
    "tf.config.list_physical_devices('GPU')\n",
    "physical_devices = tf.config.list_physical_devices('GPU')\n",
    "tf.config.experimental.set_memory_growth(physical_devices[0], True)\n",
    "tf.keras.backend.set_floatx('float32') #for memory use"
   ]
  },
  {
   "cell_type": "code",
   "execution_count": null,
   "metadata": {
    "tags": []
   },
   "outputs": [],
   "source": [
    "data_loader = DataLoader('17_point_centered.hdf5')\n",
    "%matplotlib inline  \n",
    "i=0\n",
    "obj = []\n",
    "for image, output in data_loader.load_all():\n",
    "    if i==0:\n",
    "        obj = plt.imshow(image[:,:,0])\n",
    "    else:\n",
    "        obj.set_data(image)\n",
    "    plt.show()\n"
   ]
  },
  {
   "cell_type": "code",
   "execution_count": 2,
   "metadata": {
    "tags": []
   },
   "outputs": [
    {
     "name": "stderr",
     "output_type": "stream",
     "text": [
      "/home/kucarst3-dlws/Desktop/Ayyad/DVSContactEstimation/DataLoader.py:11: H5pyDeprecationWarning: The default file mode will change to 'r' (read-only) in h5py 3.0. To suppress this warning, pass the mode you need to h5py.File(), or set the global default h5.get_config().default_file_mode, or set the environment variable H5PY_DEFAULT_READONLY=1. Available modes are: 'r', 'r+', 'w', 'w-'/'x', 'a'. See the docs for details.\n",
      "  self.data_ = h5py.File(filename)\n"
     ]
    },
    {
     "name": "stdout",
     "output_type": "stream",
     "text": [
      "WARNING:tensorflow:From /home/kucarst3-dlws/anaconda3/envs/ayyad_tf/lib/python3.6/site-packages/tensorflow/python/ops/resource_variable_ops.py:1666: calling BaseResourceVariable.__init__ (from tensorflow.python.ops.resource_variable_ops) with constraint is deprecated and will be removed in a future version.\n",
      "Instructions for updating:\n",
      "If using Keras pass *_constraint arguments to layers.\n"
     ]
    }
   ],
   "source": [
    "#import modules\n",
    "epochs = 50\n",
    "batch_size = 70\n",
    "base_learning_rate = 0.001\n",
    "learning_decay_rate = 7\n",
    "learning_decay_factor = 0.75\n",
    "data_loader = DataLoader('17_point_centered.hdf5')\n",
    "data_loader.divide_data()\n",
    "\n",
    "tf.compat.v1.disable_eager_execution()\n",
    "input_image = tf.placeholder(tf.float32, [None, None, None, None, 1], name='input_image')\n",
    "initial_hidden_state = tf.placeholder(tf.float32, [None, 29, 39, 20], name='initial_hidden_state')\n",
    "initial_carry_state = tf.placeholder(tf.float32, [None, 29, 39, 20], name='initial_carry_state')\n",
    "#initial_hidden_state = tf.placeholder(tf.float32, [None, 10, 13, 20], name='initial_hidden_state')\n",
    "#initial_carry_state = tf.placeholder(tf.float32, [None, 10, 13, 20], name='initial_carry_state')\n",
    "#grount_truth = tf.placeholder(tf.float32, [None, None, 18])\n",
    "grount_truth = tf.placeholder(tf.float32, [None, None, 18], name='ground_truth')\n",
    "learning_rate = tf.placeholder(tf.float32, shape=(), name='learning_rate')\n",
    "\n",
    "sess = tf.Session()\n",
    "\n",
    "# Build NN using load_vgg, layers, and optimize function\n",
    "#nn_last_layer, hidden_state, carry_state = DlModels.Conv2dx2LSTMFC(input_image, initial_hidden_state, initial_carry_state, encoder=DlModels.Conv2Dx1, N_outputs=18)\n",
    "nn_last_layer, hidden_state, carry_state = DlModels.Conv2dx2LSTMFC_sequence(input_image, initial_hidden_state, initial_carry_state, encoder=DlModels.Conv2Dx1, N_outputs=18)\n",
    "\n",
    "#train_op, loss = TrainDL.SoftEntropy(nn_last_layer, grount_truth, learning_rate)\n",
    "train_op, loss = TrainDL.SoftEntropy(nn_last_layer, grount_truth, learning_rate)\n",
    "\n",
    "#accuracy\n",
    "correct_prediction = tf.equal(tf.argmax(nn_last_layer[:,-10,:], 1), tf.argmax(grount_truth[:,-10,:], 1))\n",
    "accuracy_op = tf.reduce_mean(tf.cast(correct_prediction, tf.float32), name='accuracy_operation')\n",
    "\n"
   ]
  },
  {
   "cell_type": "code",
   "execution_count": 3,
   "metadata": {},
   "outputs": [
    {
     "name": "stdout",
     "output_type": "stream",
     "text": [
      "Training...\n",
      "\n",
      "EPOCH 1 ...\n",
      "Loss 3934.663299560547 ...\n",
      "Train Accuracy 0.0 ...\n",
      "Validation Accuracy [0.0] ...\n",
      "EPOCH 2 ...\n",
      "Loss 3837.607696533203 ...\n",
      "Train Accuracy 0.0 ...\n",
      "Validation Accuracy [0.0] ...\n",
      "EPOCH 3 ...\n",
      "Loss 3735.4198608398438 ...\n",
      "Train Accuracy 0.0 ...\n",
      "Validation Accuracy [0.0] ...\n",
      "EPOCH 4 ...\n",
      "Loss 3618.797103881836 ...\n",
      "Train Accuracy 0.0 ...\n",
      "Validation Accuracy [0.0] ...\n",
      "EPOCH 5 ...\n",
      "Loss 3514.415252685547 ...\n",
      "Train Accuracy 0.0 ...\n",
      "Validation Accuracy [0.0] ...\n",
      "EPOCH 6 ...\n",
      "Loss 3392.6202392578125 ...\n",
      "Train Accuracy 0.0 ...\n",
      "Validation Accuracy [0.041666668] ...\n",
      "EPOCH 7 ...\n",
      "Loss 3235.9837646484375 ...\n",
      "Train Accuracy 0.06428571604192257 ...\n",
      "Validation Accuracy [0.0625] ...\n",
      "EPOCH 8 ...\n",
      "Loss 2964.216278076172 ...\n",
      "Train Accuracy 0.15982143208384514 ...\n",
      "Validation Accuracy [0.14583333] ...\n",
      "EPOCH 9 ...\n",
      "Loss 2599.7322998046875 ...\n",
      "Train Accuracy 0.36517857760190964 ...\n",
      "Validation Accuracy [0.16666667] ...\n",
      "EPOCH 10 ...\n",
      "Loss 2264.3341674804688 ...\n",
      "Train Accuracy 0.5625000074505806 ...\n",
      "Validation Accuracy [0.35416666] ...\n",
      "EPOCH 11 ...\n",
      "Loss 1916.665870666504 ...\n",
      "Train Accuracy 0.6946428567171097 ...\n",
      "Validation Accuracy [0.5416667] ...\n",
      "EPOCH 12 ...\n",
      "Loss 1597.5015716552734 ...\n",
      "Train Accuracy 0.749107152223587 ...\n",
      "Validation Accuracy [0.6041667] ...\n",
      "EPOCH 13 ...\n",
      "Loss 1307.6337509155273 ...\n",
      "Train Accuracy 0.9392857104539871 ...\n",
      "Validation Accuracy [0.75] ...\n",
      "EPOCH 14 ...\n",
      "Loss 1071.2997360229492 ...\n",
      "Train Accuracy 0.9785714149475098 ...\n",
      "Validation Accuracy [0.7916667] ...\n",
      "EPOCH 15 ...\n",
      "Loss 889.8494529724121 ...\n",
      "Train Accuracy 0.9928571283817291 ...\n",
      "Validation Accuracy [0.7916667] ...\n",
      "EPOCH 16 ...\n",
      "Loss 754.3742294311523 ...\n",
      "Train Accuracy 1.0 ...\n",
      "Validation Accuracy [0.8541667] ...\n",
      "EPOCH 17 ...\n",
      "Loss 651.732837677002 ...\n",
      "Train Accuracy 1.0 ...\n",
      "Validation Accuracy [0.8333333] ...\n",
      "EPOCH 18 ...\n",
      "Loss 565.5819511413574 ...\n",
      "Train Accuracy 1.0 ...\n",
      "Validation Accuracy [0.8333333] ...\n",
      "EPOCH 19 ...\n",
      "Loss 505.50048446655273 ...\n",
      "Train Accuracy 1.0 ...\n",
      "Validation Accuracy [0.8541667] ...\n",
      "EPOCH 20 ...\n",
      "Loss 444.98293685913086 ...\n",
      "Train Accuracy 1.0 ...\n",
      "Validation Accuracy [0.875] ...\n",
      "EPOCH 21 ...\n",
      "Loss 402.7295322418213 ...\n",
      "Train Accuracy 1.0 ...\n",
      "Validation Accuracy [0.875] ...\n",
      "EPOCH 22 ...\n",
      "Loss 371.4513111114502 ...\n",
      "Train Accuracy 1.0 ...\n",
      "Validation Accuracy [0.875] ...\n",
      "EPOCH 23 ...\n",
      "Loss 349.3750190734863 ...\n",
      "Train Accuracy 1.0 ...\n",
      "Validation Accuracy [0.8333333] ...\n",
      "EPOCH 24 ...\n",
      "Loss 326.60890007019043 ...\n",
      "Train Accuracy 1.0 ...\n",
      "Validation Accuracy [0.8333333] ...\n",
      "EPOCH 25 ...\n",
      "Loss 310.21128845214844 ...\n",
      "Train Accuracy 1.0 ...\n",
      "Validation Accuracy [0.8333333] ...\n",
      "EPOCH 26 ...\n",
      "Loss 298.21788215637207 ...\n",
      "Train Accuracy 1.0 ...\n",
      "Validation Accuracy [0.8958333] ...\n",
      "EPOCH 27 ...\n",
      "Loss 283.1538963317871 ...\n",
      "Train Accuracy 1.0 ...\n",
      "Validation Accuracy [0.8958333] ...\n",
      "EPOCH 28 ...\n",
      "Loss 271.30764389038086 ...\n",
      "Train Accuracy 1.0 ...\n",
      "Validation Accuracy [0.875] ...\n",
      "EPOCH 29 ...\n",
      "Loss 262.11168670654297 ...\n",
      "Train Accuracy 1.0 ...\n",
      "Validation Accuracy [0.8333333] ...\n",
      "EPOCH 30 ...\n",
      "Loss 248.38118362426758 ...\n",
      "Train Accuracy 1.0 ...\n",
      "Validation Accuracy [0.8958333] ...\n",
      "EPOCH 31 ...\n",
      "Loss 241.48804473876953 ...\n",
      "Train Accuracy 1.0 ...\n",
      "Validation Accuracy [0.8541667] ...\n",
      "EPOCH 32 ...\n",
      "Loss 234.51030349731445 ...\n",
      "Train Accuracy 1.0 ...\n",
      "Validation Accuracy [0.875] ...\n",
      "EPOCH 33 ...\n",
      "Loss 230.7156467437744 ...\n",
      "Train Accuracy 1.0 ...\n",
      "Validation Accuracy [0.875] ...\n",
      "EPOCH 34 ...\n",
      "Loss 222.88084030151367 ...\n",
      "Train Accuracy 1.0 ...\n",
      "Validation Accuracy [0.8958333] ...\n",
      "EPOCH 35 ...\n",
      "Loss 221.46066856384277 ...\n",
      "Train Accuracy 1.0 ...\n",
      "Validation Accuracy [0.8333333] ...\n",
      "EPOCH 36 ...\n",
      "Loss 217.01222610473633 ...\n",
      "Train Accuracy 1.0 ...\n",
      "Validation Accuracy [0.875] ...\n",
      "EPOCH 37 ...\n",
      "Loss 214.554780960083 ...\n",
      "Train Accuracy 1.0 ...\n",
      "Validation Accuracy [0.875] ...\n",
      "EPOCH 38 ...\n",
      "Loss 204.69151496887207 ...\n",
      "Train Accuracy 1.0 ...\n",
      "Validation Accuracy [0.8541667] ...\n",
      "EPOCH 39 ...\n",
      "Loss 197.85979080200195 ...\n",
      "Train Accuracy 1.0 ...\n",
      "Validation Accuracy [0.875] ...\n",
      "EPOCH 40 ...\n",
      "Loss 192.6517105102539 ...\n",
      "Train Accuracy 1.0 ...\n",
      "Validation Accuracy [0.8541667] ...\n",
      "EPOCH 41 ...\n",
      "Loss 187.51264476776123 ...\n",
      "Train Accuracy 1.0 ...\n",
      "Validation Accuracy [0.8541667] ...\n",
      "EPOCH 42 ...\n",
      "Loss 183.11494636535645 ...\n",
      "Train Accuracy 1.0 ...\n",
      "Validation Accuracy [0.8541667] ...\n",
      "EPOCH 43 ...\n",
      "Loss 180.32724380493164 ...\n",
      "Train Accuracy 1.0 ...\n",
      "Validation Accuracy [0.8541667] ...\n",
      "EPOCH 44 ...\n",
      "Loss 176.58046054840088 ...\n",
      "Train Accuracy 1.0 ...\n",
      "Validation Accuracy [0.8541667] ...\n",
      "EPOCH 45 ...\n",
      "Loss 174.05246829986572 ...\n",
      "Train Accuracy 1.0 ...\n",
      "Validation Accuracy [0.8541667] ...\n",
      "EPOCH 46 ...\n",
      "Loss 170.9127025604248 ...\n",
      "Train Accuracy 1.0 ...\n",
      "Validation Accuracy [0.8541667] ...\n",
      "EPOCH 47 ...\n",
      "Loss 168.60399436950684 ...\n",
      "Train Accuracy 1.0 ...\n",
      "Validation Accuracy [0.8541667] ...\n",
      "EPOCH 48 ...\n",
      "Loss 166.19654083251953 ...\n",
      "Train Accuracy 1.0 ...\n",
      "Validation Accuracy [0.8541667] ...\n",
      "EPOCH 49 ...\n",
      "Loss 163.93012142181396 ...\n",
      "Train Accuracy 1.0 ...\n",
      "Validation Accuracy [0.8541667] ...\n",
      "EPOCH 50 ...\n",
      "Loss 162.0259132385254 ...\n",
      "Train Accuracy 1.0 ...\n",
      "Validation Accuracy [0.8541667] ...\n"
     ]
    },
    {
     "data": {
      "text/plain": [
       "'./model'"
      ]
     },
     "execution_count": 3,
     "metadata": {},
     "output_type": "execute_result"
    }
   ],
   "source": [
    "# Train NN using the train_nn function\n",
    "tf.glorot_uniform_initializer()\n",
    "TrainDL.train_nn(sess, epochs, nn_last_layer, hidden_state, carry_state, batch_size, data_loader, accuracy_op, train_op, loss, input_image, grount_truth, initial_hidden_state, initial_carry_state, learning_rate, base_learning_rate, learning_decay_rate, learning_decay_factor)\n",
    "        \n",
    "# save trained model\n",
    "saver = tf.train.Saver()\n",
    "saver.save(sess, './model')"
   ]
  },
  {
   "cell_type": "code",
   "execution_count": 2,
   "metadata": {
    "tags": []
   },
   "outputs": [
    {
     "output_type": "stream",
     "name": "stdout",
     "text": "INFO:tensorflow:Restoring parameters from ./model\n"
    }
   ],
   "source": [
    "sess = tf.Session()\n",
    "tf.disable_eager_execution()\n",
    "saver = tf.train.import_meta_graph('./model.meta')\n",
    "[n.name for n in tf.get_default_graph().as_graph_def().node]\n",
    "g = tf.train.latest_checkpoint('./')\n",
    "saver.restore(sess, tf.train.latest_checkpoint('./')) \n",
    "\n",
    "accuracy_op = tf.get_default_graph().get_tensor_by_name(\"accuracy_operation:0\")\n",
    "\n",
    "input_image = tf.get_default_graph().get_tensor_by_name(\"input_image:0\")\n",
    "grount_truth = tf.get_default_graph().get_tensor_by_name('ground_truth:0')\n",
    "initial_hidden_state = tf.get_default_graph().get_tensor_by_name('initial_hidden_state:0')\n",
    "initial_carry_state = tf.get_default_graph().get_tensor_by_name('initial_carry_state:0')\n",
    "nn_last_layer = tf.get_default_graph().get_tensor_by_name(\"nn_last_layer:0\")\n",
    "hidden_state = tf.get_default_graph().get_tensor_by_name(\"hidden_state:0\")\n",
    "carry_state = tf.get_default_graph().get_tensor_by_name(\"carry_state:0\")"
   ]
  },
  {
   "cell_type": "code",
   "execution_count": 3,
   "metadata": {},
   "outputs": [
    {
     "name": "stdout",
     "output_type": "stream",
     "text": [
      "INFO:tensorflow:Restoring parameters from ./model\n"
     ]
    }
   ],
   "source": [
    "sess = tf.Session()\n",
    "tf.disable_eager_execution()\n",
    "saver = tf.train.Saver()\n",
    "saver.restore(sess, tf.train.latest_checkpoint('./')) "
   ]
  },
  {
   "cell_type": "code",
   "execution_count": 4,
   "metadata": {
    "tags": []
   },
   "outputs": [
    {
     "output_type": "stream",
     "name": "stdout",
     "text": "[0.85714287]\n"
    }
   ],
   "source": [
    "data_loader = DataLoader('test_centered_2.hdf5')\n",
    "data_loader.divide_data(train_percentage=0.0, valid_percentage=0.0, test_percentage=1)\n",
    "#data_loader.divide_data()\n",
    "x_train, y_train, test_size = data_loader.get_test_data_sequence()\n",
    "initial_state_value = np.zeros(shape=(test_size, 29, 39, 20), dtype=float)\n",
    "\n",
    "test_accuracy = sess.run([accuracy_op],\n",
    "                    feed_dict={input_image: x_train, grount_truth: y_train, initial_hidden_state: initial_state_value, initial_carry_state: initial_state_value})\n",
    "print(test_accuracy)"
   ]
  },
  {
   "cell_type": "code",
   "execution_count": 18,
   "metadata": {
    "tags": []
   },
   "outputs": [
    {
     "output_type": "stream",
     "name": "stdout",
     "text": "[ 0  0  0  0  0  0  0  0  0  0  0  0  0  0  0 15 15 15 15 15 15 15 15 15\n 15 15 15 15 15 15 15 15 15 15 15  0  0  0  0  0]\n[0, 0, 0, 0, 0, 0, 0, 0, 0, 0, 0, 0, 0, 0, 0, 8, 15, 15, 15, 15, 15, 15, 15, 15, 15, 15, 15, 15, 15, 15, 15, 15, 15, 15, 15, 0, 0, 0, 0, 0]\n"
    },
    {
     "output_type": "display_data",
     "data": {
      "text/plain": "<Figure size 432x288 with 1 Axes>",
      "image/svg+xml": "<?xml version=\"1.0\" encoding=\"utf-8\" standalone=\"no\"?>\n<!DOCTYPE svg PUBLIC \"-//W3C//DTD SVG 1.1//EN\"\n  \"http://www.w3.org/Graphics/SVG/1.1/DTD/svg11.dtd\">\n<!-- Created with matplotlib (https://matplotlib.org/) -->\n<svg height=\"248.518125pt\" version=\"1.1\" viewBox=\"0 0 368.925 248.518125\" width=\"368.925pt\" xmlns=\"http://www.w3.org/2000/svg\" xmlns:xlink=\"http://www.w3.org/1999/xlink\">\n <defs>\n  <style type=\"text/css\">\n*{stroke-linecap:butt;stroke-linejoin:round;}\n  </style>\n </defs>\n <g id=\"figure_1\">\n  <g id=\"patch_1\">\n   <path d=\"M -0 248.518125 \nL 368.925 248.518125 \nL 368.925 0 \nL -0 0 \nz\n\" style=\"fill:none;\"/>\n  </g>\n  <g id=\"axes_1\">\n   <g id=\"patch_2\">\n    <path d=\"M 26.925 224.64 \nL 361.725 224.64 \nL 361.725 7.2 \nL 26.925 7.2 \nz\n\" style=\"fill:#ffffff;\"/>\n   </g>\n   <g id=\"matplotlib.axis_1\">\n    <g id=\"xtick_1\">\n     <g id=\"line2d_1\">\n      <defs>\n       <path d=\"M 0 0 \nL 0 3.5 \n\" id=\"mb31de7bfc0\" style=\"stroke:#000000;stroke-width:0.8;\"/>\n      </defs>\n      <g>\n       <use style=\"stroke:#000000;stroke-width:0.8;\" x=\"42.143182\" xlink:href=\"#mb31de7bfc0\" y=\"224.64\"/>\n      </g>\n     </g>\n     <g id=\"text_1\">\n      <!-- 0 -->\n      <defs>\n       <path d=\"M 31.78125 66.40625 \nQ 24.171875 66.40625 20.328125 58.90625 \nQ 16.5 51.421875 16.5 36.375 \nQ 16.5 21.390625 20.328125 13.890625 \nQ 24.171875 6.390625 31.78125 6.390625 \nQ 39.453125 6.390625 43.28125 13.890625 \nQ 47.125 21.390625 47.125 36.375 \nQ 47.125 51.421875 43.28125 58.90625 \nQ 39.453125 66.40625 31.78125 66.40625 \nz\nM 31.78125 74.21875 \nQ 44.046875 74.21875 50.515625 64.515625 \nQ 56.984375 54.828125 56.984375 36.375 \nQ 56.984375 17.96875 50.515625 8.265625 \nQ 44.046875 -1.421875 31.78125 -1.421875 \nQ 19.53125 -1.421875 13.0625 8.265625 \nQ 6.59375 17.96875 6.59375 36.375 \nQ 6.59375 54.828125 13.0625 64.515625 \nQ 19.53125 74.21875 31.78125 74.21875 \nz\n\" id=\"DejaVuSans-48\"/>\n      </defs>\n      <g transform=\"translate(38.961932 239.238437)scale(0.1 -0.1)\">\n       <use xlink:href=\"#DejaVuSans-48\"/>\n      </g>\n     </g>\n    </g>\n    <g id=\"xtick_2\">\n     <g id=\"line2d_2\">\n      <g>\n       <use style=\"stroke:#000000;stroke-width:0.8;\" x=\"81.164161\" xlink:href=\"#mb31de7bfc0\" y=\"224.64\"/>\n      </g>\n     </g>\n     <g id=\"text_2\">\n      <!-- 5 -->\n      <defs>\n       <path d=\"M 10.796875 72.90625 \nL 49.515625 72.90625 \nL 49.515625 64.59375 \nL 19.828125 64.59375 \nL 19.828125 46.734375 \nQ 21.96875 47.46875 24.109375 47.828125 \nQ 26.265625 48.1875 28.421875 48.1875 \nQ 40.625 48.1875 47.75 41.5 \nQ 54.890625 34.8125 54.890625 23.390625 \nQ 54.890625 11.625 47.5625 5.09375 \nQ 40.234375 -1.421875 26.90625 -1.421875 \nQ 22.3125 -1.421875 17.546875 -0.640625 \nQ 12.796875 0.140625 7.71875 1.703125 \nL 7.71875 11.625 \nQ 12.109375 9.234375 16.796875 8.0625 \nQ 21.484375 6.890625 26.703125 6.890625 \nQ 35.15625 6.890625 40.078125 11.328125 \nQ 45.015625 15.765625 45.015625 23.390625 \nQ 45.015625 31 40.078125 35.4375 \nQ 35.15625 39.890625 26.703125 39.890625 \nQ 22.75 39.890625 18.8125 39.015625 \nQ 14.890625 38.140625 10.796875 36.28125 \nz\n\" id=\"DejaVuSans-53\"/>\n      </defs>\n      <g transform=\"translate(77.982911 239.238437)scale(0.1 -0.1)\">\n       <use xlink:href=\"#DejaVuSans-53\"/>\n      </g>\n     </g>\n    </g>\n    <g id=\"xtick_3\">\n     <g id=\"line2d_3\">\n      <g>\n       <use style=\"stroke:#000000;stroke-width:0.8;\" x=\"120.18514\" xlink:href=\"#mb31de7bfc0\" y=\"224.64\"/>\n      </g>\n     </g>\n     <g id=\"text_3\">\n      <!-- 10 -->\n      <defs>\n       <path d=\"M 12.40625 8.296875 \nL 28.515625 8.296875 \nL 28.515625 63.921875 \nL 10.984375 60.40625 \nL 10.984375 69.390625 \nL 28.421875 72.90625 \nL 38.28125 72.90625 \nL 38.28125 8.296875 \nL 54.390625 8.296875 \nL 54.390625 0 \nL 12.40625 0 \nz\n\" id=\"DejaVuSans-49\"/>\n      </defs>\n      <g transform=\"translate(113.82264 239.238437)scale(0.1 -0.1)\">\n       <use xlink:href=\"#DejaVuSans-49\"/>\n       <use x=\"63.623047\" xlink:href=\"#DejaVuSans-48\"/>\n      </g>\n     </g>\n    </g>\n    <g id=\"xtick_4\">\n     <g id=\"line2d_4\">\n      <g>\n       <use style=\"stroke:#000000;stroke-width:0.8;\" x=\"159.206119\" xlink:href=\"#mb31de7bfc0\" y=\"224.64\"/>\n      </g>\n     </g>\n     <g id=\"text_4\">\n      <!-- 15 -->\n      <g transform=\"translate(152.843619 239.238437)scale(0.1 -0.1)\">\n       <use xlink:href=\"#DejaVuSans-49\"/>\n       <use x=\"63.623047\" xlink:href=\"#DejaVuSans-53\"/>\n      </g>\n     </g>\n    </g>\n    <g id=\"xtick_5\">\n     <g id=\"line2d_5\">\n      <g>\n       <use style=\"stroke:#000000;stroke-width:0.8;\" x=\"198.227098\" xlink:href=\"#mb31de7bfc0\" y=\"224.64\"/>\n      </g>\n     </g>\n     <g id=\"text_5\">\n      <!-- 20 -->\n      <defs>\n       <path d=\"M 19.1875 8.296875 \nL 53.609375 8.296875 \nL 53.609375 0 \nL 7.328125 0 \nL 7.328125 8.296875 \nQ 12.9375 14.109375 22.625 23.890625 \nQ 32.328125 33.6875 34.8125 36.53125 \nQ 39.546875 41.84375 41.421875 45.53125 \nQ 43.3125 49.21875 43.3125 52.78125 \nQ 43.3125 58.59375 39.234375 62.25 \nQ 35.15625 65.921875 28.609375 65.921875 \nQ 23.96875 65.921875 18.8125 64.3125 \nQ 13.671875 62.703125 7.8125 59.421875 \nL 7.8125 69.390625 \nQ 13.765625 71.78125 18.9375 73 \nQ 24.125 74.21875 28.421875 74.21875 \nQ 39.75 74.21875 46.484375 68.546875 \nQ 53.21875 62.890625 53.21875 53.421875 \nQ 53.21875 48.921875 51.53125 44.890625 \nQ 49.859375 40.875 45.40625 35.40625 \nQ 44.1875 33.984375 37.640625 27.21875 \nQ 31.109375 20.453125 19.1875 8.296875 \nz\n\" id=\"DejaVuSans-50\"/>\n      </defs>\n      <g transform=\"translate(191.864598 239.238437)scale(0.1 -0.1)\">\n       <use xlink:href=\"#DejaVuSans-50\"/>\n       <use x=\"63.623047\" xlink:href=\"#DejaVuSans-48\"/>\n      </g>\n     </g>\n    </g>\n    <g id=\"xtick_6\">\n     <g id=\"line2d_6\">\n      <g>\n       <use style=\"stroke:#000000;stroke-width:0.8;\" x=\"237.248077\" xlink:href=\"#mb31de7bfc0\" y=\"224.64\"/>\n      </g>\n     </g>\n     <g id=\"text_6\">\n      <!-- 25 -->\n      <g transform=\"translate(230.885577 239.238437)scale(0.1 -0.1)\">\n       <use xlink:href=\"#DejaVuSans-50\"/>\n       <use x=\"63.623047\" xlink:href=\"#DejaVuSans-53\"/>\n      </g>\n     </g>\n    </g>\n    <g id=\"xtick_7\">\n     <g id=\"line2d_7\">\n      <g>\n       <use style=\"stroke:#000000;stroke-width:0.8;\" x=\"276.269056\" xlink:href=\"#mb31de7bfc0\" y=\"224.64\"/>\n      </g>\n     </g>\n     <g id=\"text_7\">\n      <!-- 30 -->\n      <defs>\n       <path d=\"M 40.578125 39.3125 \nQ 47.65625 37.796875 51.625 33 \nQ 55.609375 28.21875 55.609375 21.1875 \nQ 55.609375 10.40625 48.1875 4.484375 \nQ 40.765625 -1.421875 27.09375 -1.421875 \nQ 22.515625 -1.421875 17.65625 -0.515625 \nQ 12.796875 0.390625 7.625 2.203125 \nL 7.625 11.71875 \nQ 11.71875 9.328125 16.59375 8.109375 \nQ 21.484375 6.890625 26.8125 6.890625 \nQ 36.078125 6.890625 40.9375 10.546875 \nQ 45.796875 14.203125 45.796875 21.1875 \nQ 45.796875 27.640625 41.28125 31.265625 \nQ 36.765625 34.90625 28.71875 34.90625 \nL 20.21875 34.90625 \nL 20.21875 43.015625 \nL 29.109375 43.015625 \nQ 36.375 43.015625 40.234375 45.921875 \nQ 44.09375 48.828125 44.09375 54.296875 \nQ 44.09375 59.90625 40.109375 62.90625 \nQ 36.140625 65.921875 28.71875 65.921875 \nQ 24.65625 65.921875 20.015625 65.03125 \nQ 15.375 64.15625 9.8125 62.3125 \nL 9.8125 71.09375 \nQ 15.4375 72.65625 20.34375 73.4375 \nQ 25.25 74.21875 29.59375 74.21875 \nQ 40.828125 74.21875 47.359375 69.109375 \nQ 53.90625 64.015625 53.90625 55.328125 \nQ 53.90625 49.265625 50.4375 45.09375 \nQ 46.96875 40.921875 40.578125 39.3125 \nz\n\" id=\"DejaVuSans-51\"/>\n      </defs>\n      <g transform=\"translate(269.906556 239.238437)scale(0.1 -0.1)\">\n       <use xlink:href=\"#DejaVuSans-51\"/>\n       <use x=\"63.623047\" xlink:href=\"#DejaVuSans-48\"/>\n      </g>\n     </g>\n    </g>\n    <g id=\"xtick_8\">\n     <g id=\"line2d_8\">\n      <g>\n       <use style=\"stroke:#000000;stroke-width:0.8;\" x=\"315.290035\" xlink:href=\"#mb31de7bfc0\" y=\"224.64\"/>\n      </g>\n     </g>\n     <g id=\"text_8\">\n      <!-- 35 -->\n      <g transform=\"translate(308.927535 239.238437)scale(0.1 -0.1)\">\n       <use xlink:href=\"#DejaVuSans-51\"/>\n       <use x=\"63.623047\" xlink:href=\"#DejaVuSans-53\"/>\n      </g>\n     </g>\n    </g>\n    <g id=\"xtick_9\">\n     <g id=\"line2d_9\">\n      <g>\n       <use style=\"stroke:#000000;stroke-width:0.8;\" x=\"354.311014\" xlink:href=\"#mb31de7bfc0\" y=\"224.64\"/>\n      </g>\n     </g>\n     <g id=\"text_9\">\n      <!-- 40 -->\n      <defs>\n       <path d=\"M 37.796875 64.3125 \nL 12.890625 25.390625 \nL 37.796875 25.390625 \nz\nM 35.203125 72.90625 \nL 47.609375 72.90625 \nL 47.609375 25.390625 \nL 58.015625 25.390625 \nL 58.015625 17.1875 \nL 47.609375 17.1875 \nL 47.609375 0 \nL 37.796875 0 \nL 37.796875 17.1875 \nL 4.890625 17.1875 \nL 4.890625 26.703125 \nz\n\" id=\"DejaVuSans-52\"/>\n      </defs>\n      <g transform=\"translate(347.948514 239.238437)scale(0.1 -0.1)\">\n       <use xlink:href=\"#DejaVuSans-52\"/>\n       <use x=\"63.623047\" xlink:href=\"#DejaVuSans-48\"/>\n      </g>\n     </g>\n    </g>\n   </g>\n   <g id=\"matplotlib.axis_2\">\n    <g id=\"ytick_1\">\n     <g id=\"line2d_10\">\n      <defs>\n       <path d=\"M 0 0 \nL -3.5 0 \n\" id=\"m32483afe30\" style=\"stroke:#000000;stroke-width:0.8;\"/>\n      </defs>\n      <g>\n       <use style=\"stroke:#000000;stroke-width:0.8;\" x=\"26.925\" xlink:href=\"#m32483afe30\" y=\"214.756364\"/>\n      </g>\n     </g>\n     <g id=\"text_10\">\n      <!-- 0 -->\n      <g transform=\"translate(13.5625 218.555582)scale(0.1 -0.1)\">\n       <use xlink:href=\"#DejaVuSans-48\"/>\n      </g>\n     </g>\n    </g>\n    <g id=\"ytick_2\">\n     <g id=\"line2d_11\">\n      <g>\n       <use style=\"stroke:#000000;stroke-width:0.8;\" x=\"26.925\" xlink:href=\"#m32483afe30\" y=\"188.4\"/>\n      </g>\n     </g>\n     <g id=\"text_11\">\n      <!-- 2 -->\n      <g transform=\"translate(13.5625 192.199219)scale(0.1 -0.1)\">\n       <use xlink:href=\"#DejaVuSans-50\"/>\n      </g>\n     </g>\n    </g>\n    <g id=\"ytick_3\">\n     <g id=\"line2d_12\">\n      <g>\n       <use style=\"stroke:#000000;stroke-width:0.8;\" x=\"26.925\" xlink:href=\"#m32483afe30\" y=\"162.043636\"/>\n      </g>\n     </g>\n     <g id=\"text_12\">\n      <!-- 4 -->\n      <g transform=\"translate(13.5625 165.842855)scale(0.1 -0.1)\">\n       <use xlink:href=\"#DejaVuSans-52\"/>\n      </g>\n     </g>\n    </g>\n    <g id=\"ytick_4\">\n     <g id=\"line2d_13\">\n      <g>\n       <use style=\"stroke:#000000;stroke-width:0.8;\" x=\"26.925\" xlink:href=\"#m32483afe30\" y=\"135.687273\"/>\n      </g>\n     </g>\n     <g id=\"text_13\">\n      <!-- 6 -->\n      <defs>\n       <path d=\"M 33.015625 40.375 \nQ 26.375 40.375 22.484375 35.828125 \nQ 18.609375 31.296875 18.609375 23.390625 \nQ 18.609375 15.53125 22.484375 10.953125 \nQ 26.375 6.390625 33.015625 6.390625 \nQ 39.65625 6.390625 43.53125 10.953125 \nQ 47.40625 15.53125 47.40625 23.390625 \nQ 47.40625 31.296875 43.53125 35.828125 \nQ 39.65625 40.375 33.015625 40.375 \nz\nM 52.59375 71.296875 \nL 52.59375 62.3125 \nQ 48.875 64.0625 45.09375 64.984375 \nQ 41.3125 65.921875 37.59375 65.921875 \nQ 27.828125 65.921875 22.671875 59.328125 \nQ 17.53125 52.734375 16.796875 39.40625 \nQ 19.671875 43.65625 24.015625 45.921875 \nQ 28.375 48.1875 33.59375 48.1875 \nQ 44.578125 48.1875 50.953125 41.515625 \nQ 57.328125 34.859375 57.328125 23.390625 \nQ 57.328125 12.15625 50.6875 5.359375 \nQ 44.046875 -1.421875 33.015625 -1.421875 \nQ 20.359375 -1.421875 13.671875 8.265625 \nQ 6.984375 17.96875 6.984375 36.375 \nQ 6.984375 53.65625 15.1875 63.9375 \nQ 23.390625 74.21875 37.203125 74.21875 \nQ 40.921875 74.21875 44.703125 73.484375 \nQ 48.484375 72.75 52.59375 71.296875 \nz\n\" id=\"DejaVuSans-54\"/>\n      </defs>\n      <g transform=\"translate(13.5625 139.486491)scale(0.1 -0.1)\">\n       <use xlink:href=\"#DejaVuSans-54\"/>\n      </g>\n     </g>\n    </g>\n    <g id=\"ytick_5\">\n     <g id=\"line2d_14\">\n      <g>\n       <use style=\"stroke:#000000;stroke-width:0.8;\" x=\"26.925\" xlink:href=\"#m32483afe30\" y=\"109.330909\"/>\n      </g>\n     </g>\n     <g id=\"text_14\">\n      <!-- 8 -->\n      <defs>\n       <path d=\"M 31.78125 34.625 \nQ 24.75 34.625 20.71875 30.859375 \nQ 16.703125 27.09375 16.703125 20.515625 \nQ 16.703125 13.921875 20.71875 10.15625 \nQ 24.75 6.390625 31.78125 6.390625 \nQ 38.8125 6.390625 42.859375 10.171875 \nQ 46.921875 13.96875 46.921875 20.515625 \nQ 46.921875 27.09375 42.890625 30.859375 \nQ 38.875 34.625 31.78125 34.625 \nz\nM 21.921875 38.8125 \nQ 15.578125 40.375 12.03125 44.71875 \nQ 8.5 49.078125 8.5 55.328125 \nQ 8.5 64.0625 14.71875 69.140625 \nQ 20.953125 74.21875 31.78125 74.21875 \nQ 42.671875 74.21875 48.875 69.140625 \nQ 55.078125 64.0625 55.078125 55.328125 \nQ 55.078125 49.078125 51.53125 44.71875 \nQ 48 40.375 41.703125 38.8125 \nQ 48.828125 37.15625 52.796875 32.3125 \nQ 56.78125 27.484375 56.78125 20.515625 \nQ 56.78125 9.90625 50.3125 4.234375 \nQ 43.84375 -1.421875 31.78125 -1.421875 \nQ 19.734375 -1.421875 13.25 4.234375 \nQ 6.78125 9.90625 6.78125 20.515625 \nQ 6.78125 27.484375 10.78125 32.3125 \nQ 14.796875 37.15625 21.921875 38.8125 \nz\nM 18.3125 54.390625 \nQ 18.3125 48.734375 21.84375 45.5625 \nQ 25.390625 42.390625 31.78125 42.390625 \nQ 38.140625 42.390625 41.71875 45.5625 \nQ 45.3125 48.734375 45.3125 54.390625 \nQ 45.3125 60.0625 41.71875 63.234375 \nQ 38.140625 66.40625 31.78125 66.40625 \nQ 25.390625 66.40625 21.84375 63.234375 \nQ 18.3125 60.0625 18.3125 54.390625 \nz\n\" id=\"DejaVuSans-56\"/>\n      </defs>\n      <g transform=\"translate(13.5625 113.130128)scale(0.1 -0.1)\">\n       <use xlink:href=\"#DejaVuSans-56\"/>\n      </g>\n     </g>\n    </g>\n    <g id=\"ytick_6\">\n     <g id=\"line2d_15\">\n      <g>\n       <use style=\"stroke:#000000;stroke-width:0.8;\" x=\"26.925\" xlink:href=\"#m32483afe30\" y=\"82.974545\"/>\n      </g>\n     </g>\n     <g id=\"text_15\">\n      <!-- 10 -->\n      <g transform=\"translate(7.2 86.773764)scale(0.1 -0.1)\">\n       <use xlink:href=\"#DejaVuSans-49\"/>\n       <use x=\"63.623047\" xlink:href=\"#DejaVuSans-48\"/>\n      </g>\n     </g>\n    </g>\n    <g id=\"ytick_7\">\n     <g id=\"line2d_16\">\n      <g>\n       <use style=\"stroke:#000000;stroke-width:0.8;\" x=\"26.925\" xlink:href=\"#m32483afe30\" y=\"56.618182\"/>\n      </g>\n     </g>\n     <g id=\"text_16\">\n      <!-- 12 -->\n      <g transform=\"translate(7.2 60.417401)scale(0.1 -0.1)\">\n       <use xlink:href=\"#DejaVuSans-49\"/>\n       <use x=\"63.623047\" xlink:href=\"#DejaVuSans-50\"/>\n      </g>\n     </g>\n    </g>\n    <g id=\"ytick_8\">\n     <g id=\"line2d_17\">\n      <g>\n       <use style=\"stroke:#000000;stroke-width:0.8;\" x=\"26.925\" xlink:href=\"#m32483afe30\" y=\"30.261818\"/>\n      </g>\n     </g>\n     <g id=\"text_17\">\n      <!-- 14 -->\n      <g transform=\"translate(7.2 34.061037)scale(0.1 -0.1)\">\n       <use xlink:href=\"#DejaVuSans-49\"/>\n       <use x=\"63.623047\" xlink:href=\"#DejaVuSans-52\"/>\n      </g>\n     </g>\n    </g>\n   </g>\n   <g id=\"line2d_18\">\n    <path clip-path=\"url(#p57ce061990)\" d=\"M 42.143182 214.756364 \nL 49.947378 214.756364 \nL 57.751573 214.756364 \nL 65.555769 214.756364 \nL 73.359965 214.756364 \nL 81.164161 214.756364 \nL 88.968357 214.756364 \nL 96.772552 214.756364 \nL 104.576748 214.756364 \nL 112.380944 214.756364 \nL 120.18514 214.756364 \nL 127.989336 214.756364 \nL 135.793531 214.756364 \nL 143.597727 214.756364 \nL 151.401923 214.756364 \nL 159.206119 17.083636 \nL 167.010315 17.083636 \nL 174.81451 17.083636 \nL 182.618706 17.083636 \nL 190.422902 17.083636 \nL 198.227098 17.083636 \nL 206.031294 17.083636 \nL 213.83549 17.083636 \nL 221.639685 17.083636 \nL 229.443881 17.083636 \nL 237.248077 17.083636 \nL 245.052273 17.083636 \nL 252.856469 17.083636 \nL 260.660664 17.083636 \nL 268.46486 17.083636 \nL 276.269056 17.083636 \nL 284.073252 17.083636 \nL 291.877448 17.083636 \nL 299.681643 17.083636 \nL 307.485839 17.083636 \nL 315.290035 214.756364 \nL 323.094231 214.756364 \nL 330.898427 214.756364 \nL 338.702622 214.756364 \nL 346.506818 214.756364 \n\" style=\"fill:none;stroke:#1f77b4;stroke-linecap:square;stroke-width:1.5;\"/>\n   </g>\n   <g id=\"line2d_19\">\n    <path clip-path=\"url(#p57ce061990)\" d=\"M 42.143182 214.756364 \nL 49.947378 214.756364 \nL 57.751573 214.756364 \nL 65.555769 214.756364 \nL 73.359965 214.756364 \nL 81.164161 214.756364 \nL 88.968357 214.756364 \nL 96.772552 214.756364 \nL 104.576748 214.756364 \nL 112.380944 214.756364 \nL 120.18514 214.756364 \nL 127.989336 214.756364 \nL 135.793531 214.756364 \nL 143.597727 214.756364 \nL 151.401923 214.756364 \nL 159.206119 109.330909 \nL 167.010315 17.083636 \nL 174.81451 17.083636 \nL 182.618706 17.083636 \nL 190.422902 17.083636 \nL 198.227098 17.083636 \nL 206.031294 17.083636 \nL 213.83549 17.083636 \nL 221.639685 17.083636 \nL 229.443881 17.083636 \nL 237.248077 17.083636 \nL 245.052273 17.083636 \nL 252.856469 17.083636 \nL 260.660664 17.083636 \nL 268.46486 17.083636 \nL 276.269056 17.083636 \nL 284.073252 17.083636 \nL 291.877448 17.083636 \nL 299.681643 17.083636 \nL 307.485839 17.083636 \nL 315.290035 214.756364 \nL 323.094231 214.756364 \nL 330.898427 214.756364 \nL 338.702622 214.756364 \nL 346.506818 214.756364 \n\" style=\"fill:none;stroke:#ff7f0e;stroke-linecap:square;stroke-width:1.5;\"/>\n   </g>\n   <g id=\"patch_3\">\n    <path d=\"M 26.925 224.64 \nL 26.925 7.2 \n\" style=\"fill:none;stroke:#000000;stroke-linecap:square;stroke-linejoin:miter;stroke-width:0.8;\"/>\n   </g>\n   <g id=\"patch_4\">\n    <path d=\"M 361.725 224.64 \nL 361.725 7.2 \n\" style=\"fill:none;stroke:#000000;stroke-linecap:square;stroke-linejoin:miter;stroke-width:0.8;\"/>\n   </g>\n   <g id=\"patch_5\">\n    <path d=\"M 26.925 224.64 \nL 361.725 224.64 \n\" style=\"fill:none;stroke:#000000;stroke-linecap:square;stroke-linejoin:miter;stroke-width:0.8;\"/>\n   </g>\n   <g id=\"patch_6\">\n    <path d=\"M 26.925 7.2 \nL 361.725 7.2 \n\" style=\"fill:none;stroke:#000000;stroke-linecap:square;stroke-linejoin:miter;stroke-width:0.8;\"/>\n   </g>\n   <g id=\"legend_1\">\n    <g id=\"patch_7\">\n     <path d=\"M 350.725 20.2 \nL 354.725 20.2 \nQ 356.725 20.2 356.725 18.2 \nL 356.725 14.2 \nQ 356.725 12.2 354.725 12.2 \nL 350.725 12.2 \nQ 348.725 12.2 348.725 14.2 \nL 348.725 18.2 \nQ 348.725 20.2 350.725 20.2 \nz\n\" style=\"fill:#ffffff;opacity:0.8;stroke:#cccccc;stroke-linejoin:miter;\"/>\n    </g>\n   </g>\n  </g>\n </g>\n <defs>\n  <clipPath id=\"p57ce061990\">\n   <rect height=\"217.44\" width=\"334.8\" x=\"26.925\" y=\"7.2\"/>\n  </clipPath>\n </defs>\n</svg>\n",
      "image/png": "[encoded data removed]"
     },
     "metadata": {
      "needs_background": "light"
     }
    }
   ],
   "source": [
    "#Test step by step\n",
    "z = []\n",
    "idx = 14\n",
    "\n",
    "x_train, y_train, test_size = data_loader.get_test_data_sequence()\n",
    "final_hidden_state = []\n",
    "final_carry_state = []\n",
    "\n",
    "for i in range(len(x_train[idx])):\n",
    "    if i==0:        \n",
    "        initial_hidden_state_value = np.zeros(shape=(1, 29, 39, 20), dtype=float)\n",
    "        initial_carry_state_value = np.zeros(shape=(1, 29, 39, 20), dtype=float)\n",
    "    else:\n",
    "        initial_hidden_state_value = final_hidden_state\n",
    "        initial_carry_state_value = final_carry_state\n",
    "    last_layer, final_hidden_state, final_carry_state = sess.run([nn_last_layer, hidden_state, carry_state], \n",
    "                                feed_dict={input_image: [[x_train[idx][i]]], initial_hidden_state: initial_hidden_state_value, initial_carry_state: initial_carry_state_value})\n",
    "    #plt.imshow(x_train[idx][i])\n",
    "    #plt.show()\n",
    "    g = np.argmax(last_layer.reshape(-1), 0)    \n",
    "    z.append(g)\n",
    "    \n",
    "print(np.argmax(y_train[idx, :, :], axis=1))\n",
    "print(z)\n",
    "plt.plot(np.argmax(y_train[idx, :, :], axis=1))\n",
    "plt.plot(z)\n",
    "plt.legend('true', 'lstm')\n",
    "plt.show()\n",
    "    \n",
    "    "
   ]
  },
  {
   "cell_type": "code",
   "execution_count": 8,
   "metadata": {
    "tags": []
   },
   "outputs": [
    {
     "output_type": "display_data",
     "data": {
      "text/plain": "<Figure size 1440x504 with 1 Axes>",
      "image/svg+xml": "<?xml version=\"1.0\" encoding=\"utf-8\" standalone=\"no\"?>\n<!DOCTYPE svg PUBLIC \"-//W3C//DTD SVG 1.1//EN\"\n  \"http://www.w3.org/Graphics/SVG/1.1/DTD/svg11.dtd\">\n<!-- Created with matplotlib (https://matplotlib.org/) -->\n<svg height=\"411.598125pt\" version=\"1.1\" viewBox=\"0 0 1159.665625 411.598125\" width=\"1159.665625pt\" xmlns=\"http://www.w3.org/2000/svg\" xmlns:xlink=\"http://www.w3.org/1999/xlink\">\n <defs>\n  <style type=\"text/css\">\n*{stroke-linecap:butt;stroke-linejoin:round;}\n  </style>\n </defs>\n <g id=\"figure_1\">\n  <g id=\"patch_1\">\n   <path d=\"M 0 411.598125 \nL 1159.665625 411.598125 \nL 1159.665625 0 \nL 0 0 \nz\n\" style=\"fill:none;\"/>\n  </g>\n  <g id=\"axes_1\">\n   <g id=\"patch_2\">\n    <path d=\"M 36.465625 387.72 \nL 1152.465625 387.72 \nL 1152.465625 7.2 \nL 36.465625 7.2 \nz\n\" style=\"fill:#ffffff;\"/>\n   </g>\n   <g id=\"matplotlib.axis_1\">\n    <g id=\"xtick_1\">\n     <g id=\"line2d_1\">\n      <defs>\n       <path d=\"M 0 0 \nL 0 3.5 \n\" id=\"m451739753a\" style=\"stroke:#000000;stroke-width:0.8;\"/>\n      </defs>\n      <g>\n       <use style=\"stroke:#000000;stroke-width:0.8;\" x=\"87.192898\" xlink:href=\"#m451739753a\" y=\"387.72\"/>\n      </g>\n     </g>\n     <g id=\"text_1\">\n      <!-- 0 -->\n      <defs>\n       <path d=\"M 31.78125 66.40625 \nQ 24.171875 66.40625 20.328125 58.90625 \nQ 16.5 51.421875 16.5 36.375 \nQ 16.5 21.390625 20.328125 13.890625 \nQ 24.171875 6.390625 31.78125 6.390625 \nQ 39.453125 6.390625 43.28125 13.890625 \nQ 47.125 21.390625 47.125 36.375 \nQ 47.125 51.421875 43.28125 58.90625 \nQ 39.453125 66.40625 31.78125 66.40625 \nz\nM 31.78125 74.21875 \nQ 44.046875 74.21875 50.515625 64.515625 \nQ 56.984375 54.828125 56.984375 36.375 \nQ 56.984375 17.96875 50.515625 8.265625 \nQ 44.046875 -1.421875 31.78125 -1.421875 \nQ 19.53125 -1.421875 13.0625 8.265625 \nQ 6.59375 17.96875 6.59375 36.375 \nQ 6.59375 54.828125 13.0625 64.515625 \nQ 19.53125 74.21875 31.78125 74.21875 \nz\n\" id=\"DejaVuSans-48\"/>\n      </defs>\n      <g transform=\"translate(84.011648 402.318437)scale(0.1 -0.1)\">\n       <use xlink:href=\"#DejaVuSans-48\"/>\n      </g>\n     </g>\n    </g>\n    <g id=\"xtick_2\">\n     <g id=\"line2d_2\">\n      <g>\n       <use style=\"stroke:#000000;stroke-width:0.8;\" x=\"268.361729\" xlink:href=\"#m451739753a\" y=\"387.72\"/>\n      </g>\n     </g>\n     <g id=\"text_2\">\n      <!-- 5 -->\n      <defs>\n       <path d=\"M 10.796875 72.90625 \nL 49.515625 72.90625 \nL 49.515625 64.59375 \nL 19.828125 64.59375 \nL 19.828125 46.734375 \nQ 21.96875 47.46875 24.109375 47.828125 \nQ 26.265625 48.1875 28.421875 48.1875 \nQ 40.625 48.1875 47.75 41.5 \nQ 54.890625 34.8125 54.890625 23.390625 \nQ 54.890625 11.625 47.5625 5.09375 \nQ 40.234375 -1.421875 26.90625 -1.421875 \nQ 22.3125 -1.421875 17.546875 -0.640625 \nQ 12.796875 0.140625 7.71875 1.703125 \nL 7.71875 11.625 \nQ 12.109375 9.234375 16.796875 8.0625 \nQ 21.484375 6.890625 26.703125 6.890625 \nQ 35.15625 6.890625 40.078125 11.328125 \nQ 45.015625 15.765625 45.015625 23.390625 \nQ 45.015625 31 40.078125 35.4375 \nQ 35.15625 39.890625 26.703125 39.890625 \nQ 22.75 39.890625 18.8125 39.015625 \nQ 14.890625 38.140625 10.796875 36.28125 \nz\n\" id=\"DejaVuSans-53\"/>\n      </defs>\n      <g transform=\"translate(265.180479 402.318437)scale(0.1 -0.1)\">\n       <use xlink:href=\"#DejaVuSans-53\"/>\n      </g>\n     </g>\n    </g>\n    <g id=\"xtick_3\">\n     <g id=\"line2d_3\">\n      <g>\n       <use style=\"stroke:#000000;stroke-width:0.8;\" x=\"449.53056\" xlink:href=\"#m451739753a\" y=\"387.72\"/>\n      </g>\n     </g>\n     <g id=\"text_3\">\n      <!-- 10 -->\n      <defs>\n       <path d=\"M 12.40625 8.296875 \nL 28.515625 8.296875 \nL 28.515625 63.921875 \nL 10.984375 60.40625 \nL 10.984375 69.390625 \nL 28.421875 72.90625 \nL 38.28125 72.90625 \nL 38.28125 8.296875 \nL 54.390625 8.296875 \nL 54.390625 0 \nL 12.40625 0 \nz\n\" id=\"DejaVuSans-49\"/>\n      </defs>\n      <g transform=\"translate(443.16806 402.318437)scale(0.1 -0.1)\">\n       <use xlink:href=\"#DejaVuSans-49\"/>\n       <use x=\"63.623047\" xlink:href=\"#DejaVuSans-48\"/>\n      </g>\n     </g>\n    </g>\n    <g id=\"xtick_4\">\n     <g id=\"line2d_4\">\n      <g>\n       <use style=\"stroke:#000000;stroke-width:0.8;\" x=\"630.699391\" xlink:href=\"#m451739753a\" y=\"387.72\"/>\n      </g>\n     </g>\n     <g id=\"text_4\">\n      <!-- 15 -->\n      <g transform=\"translate(624.336891 402.318437)scale(0.1 -0.1)\">\n       <use xlink:href=\"#DejaVuSans-49\"/>\n       <use x=\"63.623047\" xlink:href=\"#DejaVuSans-53\"/>\n      </g>\n     </g>\n    </g>\n    <g id=\"xtick_5\">\n     <g id=\"line2d_5\">\n      <g>\n       <use style=\"stroke:#000000;stroke-width:0.8;\" x=\"811.868222\" xlink:href=\"#m451739753a\" y=\"387.72\"/>\n      </g>\n     </g>\n     <g id=\"text_5\">\n      <!-- 20 -->\n      <defs>\n       <path d=\"M 19.1875 8.296875 \nL 53.609375 8.296875 \nL 53.609375 0 \nL 7.328125 0 \nL 7.328125 8.296875 \nQ 12.9375 14.109375 22.625 23.890625 \nQ 32.328125 33.6875 34.8125 36.53125 \nQ 39.546875 41.84375 41.421875 45.53125 \nQ 43.3125 49.21875 43.3125 52.78125 \nQ 43.3125 58.59375 39.234375 62.25 \nQ 35.15625 65.921875 28.609375 65.921875 \nQ 23.96875 65.921875 18.8125 64.3125 \nQ 13.671875 62.703125 7.8125 59.421875 \nL 7.8125 69.390625 \nQ 13.765625 71.78125 18.9375 73 \nQ 24.125 74.21875 28.421875 74.21875 \nQ 39.75 74.21875 46.484375 68.546875 \nQ 53.21875 62.890625 53.21875 53.421875 \nQ 53.21875 48.921875 51.53125 44.890625 \nQ 49.859375 40.875 45.40625 35.40625 \nQ 44.1875 33.984375 37.640625 27.21875 \nQ 31.109375 20.453125 19.1875 8.296875 \nz\n\" id=\"DejaVuSans-50\"/>\n      </defs>\n      <g transform=\"translate(805.505722 402.318437)scale(0.1 -0.1)\">\n       <use xlink:href=\"#DejaVuSans-50\"/>\n       <use x=\"63.623047\" xlink:href=\"#DejaVuSans-48\"/>\n      </g>\n     </g>\n    </g>\n    <g id=\"xtick_6\">\n     <g id=\"line2d_6\">\n      <g>\n       <use style=\"stroke:#000000;stroke-width:0.8;\" x=\"993.037054\" xlink:href=\"#m451739753a\" y=\"387.72\"/>\n      </g>\n     </g>\n     <g id=\"text_6\">\n      <!-- 25 -->\n      <g transform=\"translate(986.674554 402.318437)scale(0.1 -0.1)\">\n       <use xlink:href=\"#DejaVuSans-50\"/>\n       <use x=\"63.623047\" xlink:href=\"#DejaVuSans-53\"/>\n      </g>\n     </g>\n    </g>\n   </g>\n   <g id=\"matplotlib.axis_2\">\n    <g id=\"ytick_1\">\n     <g id=\"line2d_7\">\n      <defs>\n       <path d=\"M 0 0 \nL -3.5 0 \n\" id=\"m1c39dc2055\" style=\"stroke:#000000;stroke-width:0.8;\"/>\n      </defs>\n      <g>\n       <use style=\"stroke:#000000;stroke-width:0.8;\" x=\"36.465625\" xlink:href=\"#m1c39dc2055\" y=\"370.423636\"/>\n      </g>\n     </g>\n     <g id=\"text_7\">\n      <!-- 0.0 -->\n      <defs>\n       <path d=\"M 10.6875 12.40625 \nL 21 12.40625 \nL 21 0 \nL 10.6875 0 \nz\n\" id=\"DejaVuSans-46\"/>\n      </defs>\n      <g transform=\"translate(13.5625 374.222855)scale(0.1 -0.1)\">\n       <use xlink:href=\"#DejaVuSans-48\"/>\n       <use x=\"63.623047\" xlink:href=\"#DejaVuSans-46\"/>\n       <use x=\"95.410156\" xlink:href=\"#DejaVuSans-48\"/>\n      </g>\n     </g>\n    </g>\n    <g id=\"ytick_2\">\n     <g id=\"line2d_8\">\n      <g>\n       <use style=\"stroke:#000000;stroke-width:0.8;\" x=\"36.465625\" xlink:href=\"#m1c39dc2055\" y=\"319.551979\"/>\n      </g>\n     </g>\n     <g id=\"text_8\">\n      <!-- 2.5 -->\n      <g transform=\"translate(13.5625 323.351197)scale(0.1 -0.1)\">\n       <use xlink:href=\"#DejaVuSans-50\"/>\n       <use x=\"63.623047\" xlink:href=\"#DejaVuSans-46\"/>\n       <use x=\"95.410156\" xlink:href=\"#DejaVuSans-53\"/>\n      </g>\n     </g>\n    </g>\n    <g id=\"ytick_3\">\n     <g id=\"line2d_9\">\n      <g>\n       <use style=\"stroke:#000000;stroke-width:0.8;\" x=\"36.465625\" xlink:href=\"#m1c39dc2055\" y=\"268.680321\"/>\n      </g>\n     </g>\n     <g id=\"text_9\">\n      <!-- 5.0 -->\n      <g transform=\"translate(13.5625 272.47954)scale(0.1 -0.1)\">\n       <use xlink:href=\"#DejaVuSans-53\"/>\n       <use x=\"63.623047\" xlink:href=\"#DejaVuSans-46\"/>\n       <use x=\"95.410156\" xlink:href=\"#DejaVuSans-48\"/>\n      </g>\n     </g>\n    </g>\n    <g id=\"ytick_4\">\n     <g id=\"line2d_10\">\n      <g>\n       <use style=\"stroke:#000000;stroke-width:0.8;\" x=\"36.465625\" xlink:href=\"#m1c39dc2055\" y=\"217.808663\"/>\n      </g>\n     </g>\n     <g id=\"text_10\">\n      <!-- 7.5 -->\n      <defs>\n       <path d=\"M 8.203125 72.90625 \nL 55.078125 72.90625 \nL 55.078125 68.703125 \nL 28.609375 0 \nL 18.3125 0 \nL 43.21875 64.59375 \nL 8.203125 64.59375 \nz\n\" id=\"DejaVuSans-55\"/>\n      </defs>\n      <g transform=\"translate(13.5625 221.607882)scale(0.1 -0.1)\">\n       <use xlink:href=\"#DejaVuSans-55\"/>\n       <use x=\"63.623047\" xlink:href=\"#DejaVuSans-46\"/>\n       <use x=\"95.410156\" xlink:href=\"#DejaVuSans-53\"/>\n      </g>\n     </g>\n    </g>\n    <g id=\"ytick_5\">\n     <g id=\"line2d_11\">\n      <g>\n       <use style=\"stroke:#000000;stroke-width:0.8;\" x=\"36.465625\" xlink:href=\"#m1c39dc2055\" y=\"166.937005\"/>\n      </g>\n     </g>\n     <g id=\"text_11\">\n      <!-- 10.0 -->\n      <g transform=\"translate(7.2 170.736224)scale(0.1 -0.1)\">\n       <use xlink:href=\"#DejaVuSans-49\"/>\n       <use x=\"63.623047\" xlink:href=\"#DejaVuSans-48\"/>\n       <use x=\"127.246094\" xlink:href=\"#DejaVuSans-46\"/>\n       <use x=\"159.033203\" xlink:href=\"#DejaVuSans-48\"/>\n      </g>\n     </g>\n    </g>\n    <g id=\"ytick_6\">\n     <g id=\"line2d_12\">\n      <g>\n       <use style=\"stroke:#000000;stroke-width:0.8;\" x=\"36.465625\" xlink:href=\"#m1c39dc2055\" y=\"116.065348\"/>\n      </g>\n     </g>\n     <g id=\"text_12\">\n      <!-- 12.5 -->\n      <g transform=\"translate(7.2 119.864566)scale(0.1 -0.1)\">\n       <use xlink:href=\"#DejaVuSans-49\"/>\n       <use x=\"63.623047\" xlink:href=\"#DejaVuSans-50\"/>\n       <use x=\"127.246094\" xlink:href=\"#DejaVuSans-46\"/>\n       <use x=\"159.033203\" xlink:href=\"#DejaVuSans-53\"/>\n      </g>\n     </g>\n    </g>\n    <g id=\"ytick_7\">\n     <g id=\"line2d_13\">\n      <g>\n       <use style=\"stroke:#000000;stroke-width:0.8;\" x=\"36.465625\" xlink:href=\"#m1c39dc2055\" y=\"65.19369\"/>\n      </g>\n     </g>\n     <g id=\"text_13\">\n      <!-- 15.0 -->\n      <g transform=\"translate(7.2 68.992909)scale(0.1 -0.1)\">\n       <use xlink:href=\"#DejaVuSans-49\"/>\n       <use x=\"63.623047\" xlink:href=\"#DejaVuSans-53\"/>\n       <use x=\"127.246094\" xlink:href=\"#DejaVuSans-46\"/>\n       <use x=\"159.033203\" xlink:href=\"#DejaVuSans-48\"/>\n      </g>\n     </g>\n    </g>\n    <g id=\"ytick_8\">\n     <g id=\"line2d_14\">\n      <g>\n       <use style=\"stroke:#000000;stroke-width:0.8;\" x=\"36.465625\" xlink:href=\"#m1c39dc2055\" y=\"14.322032\"/>\n      </g>\n     </g>\n     <g id=\"text_14\">\n      <!-- 17.5 -->\n      <g transform=\"translate(7.2 18.121251)scale(0.1 -0.1)\">\n       <use xlink:href=\"#DejaVuSans-49\"/>\n       <use x=\"63.623047\" xlink:href=\"#DejaVuSans-55\"/>\n       <use x=\"127.246094\" xlink:href=\"#DejaVuSans-46\"/>\n       <use x=\"159.033203\" xlink:href=\"#DejaVuSans-53\"/>\n      </g>\n     </g>\n    </g>\n   </g>\n   <g id=\"line2d_15\">\n    <path clip-path=\"url(#pc56b7aecd0)\" d=\"M 87.192898 370.423636 \nL 123.426664 370.423636 \nL 159.66043 370.423636 \nL 195.894196 370.423636 \nL 232.127963 370.423636 \nL 268.361729 370.423636 \nL 304.595495 370.423636 \nL 340.829261 370.423636 \nL 377.063028 370.423636 \nL 413.296794 370.423636 \nL 449.53056 370.423636 \nL 485.764326 370.423636 \nL 521.998093 370.423636 \nL 558.231859 370.423636 \nL 594.465625 24.496364 \nL 630.699391 24.496364 \nL 666.933157 24.496364 \nL 703.166924 24.496364 \nL 739.40069 24.496364 \nL 775.634456 24.496364 \nL 811.868222 24.496364 \nL 848.101989 24.496364 \nL 884.335755 24.496364 \nL 920.569521 24.496364 \nL 956.803287 24.496364 \nL 993.037054 24.496364 \nL 1029.27082 24.496364 \nL 1065.504586 24.496364 \nL 1101.738352 24.496364 \n\" style=\"fill:none;stroke:#1f77b4;stroke-linecap:square;stroke-width:1.5;\"/>\n   </g>\n   <g id=\"line2d_16\">\n    <path clip-path=\"url(#pc56b7aecd0)\" d=\"M 87.192898 370.423636 \nL 123.426664 370.423636 \nL 159.66043 370.423636 \nL 195.894196 370.423636 \nL 232.127963 370.423636 \nL 268.361729 370.423636 \nL 304.595495 370.423636 \nL 340.829261 370.423636 \nL 377.063028 370.423636 \nL 413.296794 370.423636 \nL 449.53056 370.423636 \nL 485.764326 370.423636 \nL 521.998093 370.423636 \nL 558.231859 370.423636 \nL 594.465625 370.423636 \nL 630.699391 309.377647 \nL 666.933157 65.19369 \nL 703.166924 65.19369 \nL 739.40069 65.19369 \nL 775.634456 370.423636 \nL 811.868222 309.377647 \nL 848.101989 65.19369 \nL 884.335755 65.19369 \nL 920.569521 65.19369 \nL 956.803287 207.634332 \nL 993.037054 65.19369 \nL 1029.27082 65.19369 \nL 1065.504586 65.19369 \nL 1101.738352 370.423636 \n\" style=\"fill:none;stroke:#ff7f0e;stroke-linecap:square;stroke-width:1.5;\"/>\n   </g>\n   <g id=\"patch_3\">\n    <path d=\"M 36.465625 387.72 \nL 36.465625 7.2 \n\" style=\"fill:none;stroke:#000000;stroke-linecap:square;stroke-linejoin:miter;stroke-width:0.8;\"/>\n   </g>\n   <g id=\"patch_4\">\n    <path d=\"M 1152.465625 387.72 \nL 1152.465625 7.2 \n\" style=\"fill:none;stroke:#000000;stroke-linecap:square;stroke-linejoin:miter;stroke-width:0.8;\"/>\n   </g>\n   <g id=\"patch_5\">\n    <path d=\"M 36.465625 387.72 \nL 1152.465625 387.72 \n\" style=\"fill:none;stroke:#000000;stroke-linecap:square;stroke-linejoin:miter;stroke-width:0.8;\"/>\n   </g>\n   <g id=\"patch_6\">\n    <path d=\"M 36.465625 7.2 \nL 1152.465625 7.2 \n\" style=\"fill:none;stroke:#000000;stroke-linecap:square;stroke-linejoin:miter;stroke-width:0.8;\"/>\n   </g>\n   <g id=\"legend_1\">\n    <g id=\"patch_7\">\n     <path d=\"M 1141.465625 20.2 \nL 1145.465625 20.2 \nQ 1147.465625 20.2 1147.465625 18.2 \nL 1147.465625 14.2 \nQ 1147.465625 12.2 1145.465625 12.2 \nL 1141.465625 12.2 \nQ 1139.465625 12.2 1139.465625 14.2 \nL 1139.465625 18.2 \nQ 1139.465625 20.2 1141.465625 20.2 \nz\n\" style=\"fill:#ffffff;opacity:0.8;stroke:#cccccc;stroke-linejoin:miter;\"/>\n    </g>\n   </g>\n  </g>\n </g>\n <defs>\n  <clipPath id=\"pc56b7aecd0\">\n   <rect height=\"380.52\" width=\"1116\" x=\"36.465625\" y=\"7.2\"/>\n  </clipPath>\n </defs>\n</svg>\n",
      "image/png": "[encoded data removed]"
     },
     "metadata": {
      "needs_background": "light"
     }
    }
   ],
   "source": [
    "#run full sequence\n",
    "\n",
    "initial_hidden_state_value = np.zeros(shape=(1, 29, 39, 20), dtype=float)\n",
    "initial_carry_state_value = np.zeros(shape=(1, 29, 39, 20), dtype=float)\n",
    "\n",
    "truth_list = []\n",
    "prediction_list = []\n",
    "prev_truth = 0\n",
    "fall_counter = 0\n",
    "initiate_counter = False\n",
    "\n",
    "for image, contact_status in data_loader.get_full_data_sequence():\n",
    "    \n",
    "    #print(np.shape(image))\n",
    "    \n",
    "    last_layer, final_hidden_state, final_carry_state = sess.run([nn_last_layer, hidden_state, carry_state], \n",
    "                                feed_dict={input_image: image, initial_hidden_state: initial_hidden_state_value, initial_carry_state: initial_carry_state_value})\n",
    "        \n",
    "    truth_list.append(contact_status) \n",
    "    prev_truth = contact_status\n",
    "    \n",
    "    \n",
    "    prediction = np.argmax(last_layer.reshape(-1), 0)   \n",
    "    prediction_list.append(prediction)\n",
    "\n",
    "\n",
    "    if (prev_truth > 0) and contact_status==0:\n",
    "        initiate_counter = True\n",
    "\n",
    "    if initiate_counter and contact_status==0:\n",
    "        fall_counter = fall_counter + 1\n",
    "    elif contact_status!=0:\n",
    "        initiate_counter = False\n",
    "        fall_counter = 0\n",
    "\n",
    "    if fall_counter > 4:\n",
    "        initial_hidden_state_value = np.zeros(shape=(1, 29, 39, 20), dtype=float)\n",
    "        initial_carry_state_value = np.zeros(shape=(1, 29, 39, 20), dtype=float)\n",
    "        initiate_counter = False\n",
    "        fall_counter = 0\n",
    "    else:        \n",
    "        initial_hidden_state_value = final_hidden_state    \n",
    "        initial_carry_state_value = final_carry_state\n",
    "    \n",
    "\n",
    "plt.figure(figsize=(20,7))\n",
    "plt.plot(truth_list)\n",
    "plt.plot(prediction_list)\n",
    "plt.legend('true', 'lstm')\n",
    "plt.show()"
   ]
  },
  {
   "cell_type": "code",
   "execution_count": null,
   "metadata": {},
   "outputs": [],
   "source": [
    "plt.imshow(x_train[idx][0])"
   ]
  },
  {
   "cell_type": "code",
   "execution_count": null,
   "metadata": {},
   "outputs": [],
   "source": [
    "print(g.eval())"
   ]
  },
  {
   "cell_type": "code",
   "execution_count": null,
   "metadata": {},
   "outputs": [],
   "source": [
    "x = tf2.ones(shape=(5, 3, 5))\n",
    "print(tf.shape(x))\n",
    "print(tf.shape(x[:,-1,:]))"
   ]
  },
  {
   "cell_type": "code",
   "execution_count": 5,
   "metadata": {},
   "outputs": [
    {
     "data": {
      "text/plain": [
       "<tf.Tensor 'softmax_cross_entropy_with_logits_1/Reshape_2:0' shape=(2,) dtype=float32>"
      ]
     },
     "execution_count": 5,
     "metadata": {},
     "output_type": "execute_result"
    }
   ],
   "source": [
    "logits = [[4.0, 2.0, 1.0], [0.0, 5.0, 1.0]]\n",
    "labels = [[1.0, 0.0, 0.0], [0.0, 0.8, 0.2]]\n",
    "tf2.nn.softmax_cross_entropy_with_logits(labels=labels, logits=logits)\n",
    "\n"
   ]
  }
 ],
 "metadata": {
  "kernelspec": {
   "display_name": "Python 3.6.9 64-bit",
   "language": "python",
   "name": "python36964bit42cfdd42f3ee49b6bf93335b6b0cdf92"
  },
  "language_info": {
   "codemirror_mode": {
    "name": "ipython",
    "version": 3
   },
   "file_extension": ".py",
   "mimetype": "text/x-python",
   "name": "python",
   "nbconvert_exporter": "python",
   "pygments_lexer": "ipython3",
   "version": "3.6.9-final"
  }
 },
 "nbformat": 4,
 "nbformat_minor": 2
}