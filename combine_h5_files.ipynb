{
 "cells": [
  {
   "cell_type": "code",
   "execution_count": 1,
   "metadata": {},
   "outputs": [],
   "source": [
    "#import models\n",
    "import numpy as np\n",
    "import h5py\n",
    "import sys, os\n",
    "import rospy\n",
    "import math\n",
    "from scipy.interpolate import interp1d\n",
    "import h5py\n",
    "import matplotlib.pylab as plt"
   ]
  },
  {
   "cell_type": "code",
   "execution_count": 2,
   "metadata": {},
   "outputs": [],
   "source": [
    "h5_a_file_name = '17_point_single_frame_processed_data_old_prototype.hdf5'\n",
    "h5_b_file_name = '17_point_single_frame_processed_data_new_prototype.hdf5'\n",
    "h5_file_name = '17_point_single_frame_processed_data.hdf5'\n",
    "\n",
    "h5_a = h5py.File(h5_a_file_name, 'r')\n",
    "h5_b = h5py.File(h5_b_file_name, 'r')\n",
    "hf_tot = h5py.File(h5_file_name, 'w')"
   ]
  },
  {
   "cell_type": "code",
   "execution_count": 7,
   "metadata": {},
   "outputs": [],
   "source": [
    "time_window_size = 15\n",
    "examples_per_edge = 3"
   ]
  },
  {
   "cell_type": "code",
   "execution_count": null,
   "metadata": {},
   "outputs": [],
   "source": []
  },
  {
   "cell_type": "code",
   "execution_count": 3,
   "metadata": {},
   "outputs": [],
   "source": [
    "#combine data\n",
    "hf_tot.create_dataset('contact_status', data=h5_a['contact_status'], maxshape=(None,))\n",
    "hf_tot.create_dataset('time_steps', data=h5_a['time_steps'], maxshape=(None,))\n",
    "hf_tot.create_dataset('event_images', data=h5_a['event_images'], maxshape=(None, None, None, None))\n",
    "\n",
    "hf_tot['contact_status'].resize(len(hf_tot['contact_status']) + len(h5_b['contact_status']), axis=0)\n",
    "hf_tot[\"contact_status\"][-len(h5_b['contact_status']):] = h5_b['contact_status']\n",
    "\n",
    "hf_tot['time_steps'].resize(len(hf_tot['time_steps']) + len(h5_b['time_steps']), axis=0)\n",
    "hf_tot[\"time_steps\"][-len(h5_b['time_steps']):] = h5_b['time_steps']\n",
    "\n",
    "hf_tot['event_images'].resize(len(hf_tot['event_images']) + len(h5_b['event_images']), axis=0)\n",
    "hf_tot[\"event_images\"][-len(h5_b['event_images']):] = h5_b['event_images']\n",
    "\n",
    "hf_tot.close()\n",
    "h5_a.close()\n",
    "h5_b.close()"
   ]
  },
  {
   "cell_type": "code",
   "execution_count": 4,
   "metadata": {},
   "outputs": [
    {
     "name": "stdout",
     "output_type": "stream",
     "text": [
      "number of event images: 17028\n"
     ]
    }
   ],
   "source": [
    "hf = h5py.File(h5_file_name, 'r+')\n",
    "print('number of event images: {}'.format(len(hf['event_images'])))\n",
    "hf.close()"
   ]
  },
  {
   "cell_type": "code",
   "execution_count": 10,
   "metadata": {},
   "outputs": [
    {
     "name": "stdout",
     "output_type": "stream",
     "text": [
      "[47, 68, 97, 117, 145, 167, 196, 217, 243, 267, 295, 317, 347, 367, 397, 417, 447, 467, 497, 518, 545, 568, 596, 618, 646, 668, 694, 718, 745, 767, 796, 818, 845, 867, 897, 918, 944, 968, 994, 1018, 1047, 1067, 1097, 1117, 1147, 1167, 1197, 1219, 1248, 1268, 1297, 1319, 1348, 1368, 1396, 1419, 1448, 1469, 1497, 1518, 1547, 1567, 1597, 1618, 1645, 1668, 1695, 1719, 1748, 1769, 1798, 1818, 1846, 1869, 1896, 1918, 1945, 1968, 1996, 2019, 2048, 2069, 2097, 2118, 2146, 2169, 2198, 2219, 2248, 2269, 2296, 2319, 2348, 2369, 2397, 2419, 2448, 2468, 2498, 2518, 2546, 2569, 2598, 2618, 2648, 2668, 2699, 2718, 2749, 2770, 2798, 2820, 2849, 2870, 2899, 2919, 2949, 2971, 3000, 3019, 3048, 3070, 3099, 3120, 3146, 3169, 3195, 3220, 3249, 3270, 3299, 3319, 3347, 3370, 3399, 3419, 3449, 3470, 3497, 3520, 3549, 3570, 3596, 3620, 3649, 3669, 3699, 3719, 3750, 3770, 3798, 3820, 3850, 3870, 3899, 3920, 3948, 3970, 3997, 4020, 4049, 4070, 4099, 4119, 4149, 4171, 4197, 4221, 4248, 4270, 4300, 4321, 4350, 4370, 4400, 4421, 4450, 4471, 4500, 4521, 4550, 4571, 4600, 4620, 4650, 4671, 4699, 4721, 4750, 4772, 4798, 4821, 4848, 4870, 4900, 4921, 4949, 4971, 5000, 5021, 5047, 5070, 5100, 5120, 5150, 5171, 5199, 5221, 5250, 5270, 5299, 5322, 5351, 5372, 5401, 5422, 5451, 5471, 5501, 5522, 5550, 5571, 5599, 5622, 5648, 5671, 5698, 5721, 5747, 5770, 5800, 5822, 5848, 5872, 5899, 5922, 5951, 5971, 5998, 6022, 6051, 6072, 6101, 6122, 6151, 6171, 6201, 6222, 6251, 6272, 6300, 6322, 6351, 6372, 6399, 6422, 6451, 6473, 6499, 6523, 6552, 6573, 6599, 6622, 6651, 6672, 6701, 6721, 6748, 6772, 6798, 6823, 6849, 6871, 6902, 6923, 6952, 6973, 6999, 7023, 7052, 7072, 7102, 7122, 7152, 7172, 7202, 7222, 7249, 7272, 7300, 7323, 7353, 7373, 7403, 7424, 7452, 7473, 7499, 7523, 7552, 7573, 7602, 7623, 7650, 7672, 7699, 7723, 7752, 7774, 7802, 7823, 7850, 7874, 7903, 7924, 7951, 7973, 8003, 8024, 8053, 8074, 8100, 8124, 8150, 8174, 8203, 8224, 8253, 8274, 8301, 8322, 8353, 8373, 8400, 8423, 8450, 8474, 8503, 8520, 8556, 8576, 8606, 8626, 8656, 8676, 8706, 8726, 8756, 8776, 8806, 8826, 8856, 8875, 8905, 8925, 8955, 8976, 9006, 9026, 9056, 9076, 9106, 9126, 9156, 9176, 9206, 9226, 9256, 9276, 9306, 9326, 9356, 9376, 9406, 9427, 9457, 9477, 9507, 9527, 9557, 9576, 9606, 9626, 9656, 9676, 9706, 9726, 9756, 9776, 9806, 9826, 9856, 9876, 9906, 9927, 9957, 9977, 10007, 10027, 10057, 10077, 10107, 10127, 10157, 10177, 10207, 10227, 10257, 10277, 10306, 10326, 10356, 10376, 10407, 10426, 10457, 10477, 10507, 10527, 10557, 10577, 10607, 10627, 10657, 10677, 10707, 10727, 10757, 10777, 10807, 10827, 10857, 10878, 10908, 10928, 10958, 10978, 11008, 11027, 11057, 11077, 11107, 11127, 11157, 11177, 11207, 11227, 11257, 11277, 11307, 11327, 11357, 11378, 11407, 11428, 11458, 11478, 11508, 11528, 11558, 11578, 11608, 11628, 11658, 11678, 11708, 11728, 11758, 11777, 11807, 11827, 11858, 11878, 11908, 11928, 11958, 11978, 12008, 12028, 12058, 12078, 12108, 12128, 12158, 12178, 12208, 12228, 12258, 12278, 12309, 12328, 12359, 12379, 12409, 12428, 12458, 12478, 12508, 12528, 12558, 12578, 12608, 12628, 12658, 12678, 12708, 12728, 12758, 12778, 12809, 12829, 12859, 12879, 12909, 12929, 12959, 12979, 13009, 13029, 13059, 13079, 13109, 13129, 13159, 13179, 13209, 13228, 13258, 13279, 13309, 13329, 13359, 13379, 13409, 13429, 13459, 13479, 13509, 13529, 13559, 13579, 13609, 13629, 13659, 13679, 13709, 13729, 13760, 13780, 13810, 13830, 13860, 13880, 13910, 13930, 13959, 13979, 14009, 14029, 14059, 14079, 14109, 14129, 14159, 14179, 14210, 14229, 14260, 14280, 14310, 14330, 14360, 14380, 14410, 14430, 14460, 14480, 14510, 14530, 14560, 14580, 14610, 14630, 14660, 14680, 14711, 14730, 14760, 14780, 14810, 14830, 14860, 14880, 14910, 14930, 14960, 14980, 15010, 15030, 15060, 15080, 15110, 15130, 15160, 15181, 15210, 15231, 15261, 15281, 15311, 15331, 15361, 15381, 15411, 15431, 15461, 15481, 15510, 15530, 15560, 15580, 15610, 15630, 15660, 15681, 15711, 15731, 15761, 15781, 15811, 15831, 15861, 15881, 15911, 15931, 15961, 15981, 16011, 16031, 16061, 16081, 16111, 16131, 16161, 16181, 16212, 16231, 16261, 16281, 16311, 16331, 16361, 16381, 16411, 16431, 16461, 16481, 16511, 16531, 16561, 16581, 16611, 16631, 16661, 16681, 16712, 16731, 16762, 16782, 16812, 16832, 16862, 16882, 16912, 16932, 16962, 16982, 17012]\n"
     ]
    }
   ],
   "source": [
    "#Find rise/drop time and create windows accordingle\n",
    "hf = h5py.File(h5_file_name, 'r+')\n",
    "edge_locations = np.where(np.abs(np.diff(hf['contact_status']))>0)\n",
    "edge_locations = np.array(edge_locations)[0].tolist()\n",
    "print(edge_locations)\n",
    "hf.close()\n",
    "\n",
    "#Divide the data set into windows\n",
    "\n",
    "def extract_edge_data(hf_file, edge_index_list, n_examples_per_edge=examples_per_edge, window_size=time_window_size, n_classes=18):\n",
    "    for i in range(len(edge_index_list)):\n",
    "        index = edge_index_list[i]\n",
    "\n",
    "        for j in range(n_examples_per_edge):\n",
    "            if hf_file['contact_status'][index+1] == 0:\n",
    "                #fall edge case\n",
    "                start_index = max([0, math.floor(index+5)])\n",
    "                end_index = start_index + window_size               \n",
    "            else:\n",
    "                #rise edge case\n",
    "                start_index = max([0, math.floor(index-window_size/2)])\n",
    "                end_index = start_index + window_size\n",
    "\n",
    "            if end_index <= len(hf_file['contact_status']):\n",
    "                reference_idx = range(int(start_index), int(end_index))\n",
    "                one_hot_vector = [0] * n_classes\n",
    "                one_hot_vector[int(hf_file['contact_status'][end_index])] = 1\n",
    "                \n",
    "                if not ('ex_input_image_idx' in hf_file.keys()):\n",
    "                    hf_file.create_dataset('ex_input_image_idx', data=[reference_idx], maxshape=(None,None))\n",
    "                    hf_file.create_dataset('ex_output', data=[one_hot_vector], maxshape=(None, None))\n",
    "                else:\n",
    "                    hf_file['ex_input_image_idx'].resize(len(hf_file['ex_input_image_idx']) + 1, axis=0)\n",
    "                    hf_file[\"ex_input_image_idx\"][len(hf_file['ex_input_image_idx'])-1] = reference_idx\n",
    "\n",
    "                    hf_file['ex_output'].resize(len(hf_file['ex_output']) + 1, axis=0)\n",
    "                    hf_file[\"ex_output\"][len(hf_file['ex_output'])-1] = one_hot_vector\n"
   ]
  },
  {
   "cell_type": "code",
   "execution_count": 11,
   "metadata": {},
   "outputs": [],
   "source": [
    "hf = h5py.File(h5_file_name, 'r+')\n",
    "extract_edge_data(hf, edge_locations)\n",
    "hf.close()"
   ]
  },
  {
   "cell_type": "code",
   "execution_count": 19,
   "metadata": {},
   "outputs": [
    {
     "data": {
      "image/png": "[encoded data removed]",
      "text/plain": [
       "<Figure size 432x288 with 1 Axes>"
      ]
     },
     "metadata": {
      "needs_background": "light"
     },
     "output_type": "display_data"
    }
   ],
   "source": [
    "#Visualize events at switching states\n",
    "hf = h5py.File(h5_file_name, 'r+')\n",
    "indx = 100\n",
    "plt.imshow(hf['event_images'][edge_locations[indx]][:,:,0])\n",
    "plt.show\n",
    "hf.close()"
   ]
  },
  {
   "cell_type": "code",
   "execution_count": 20,
   "metadata": {},
   "outputs": [
    {
     "name": "stdout",
     "output_type": "stream",
     "text": [
      "[1017, 60, 60, 60, 60, 60, 60, 60, 60, 60, 60, 60, 60, 60, 60, 60, 60, 60]\n"
     ]
    },
    {
     "data": {
      "image/png": "[encoded data removed]",
      "text/plain": [
       "<Figure size 432x288 with 1 Axes>"
      ]
     },
     "metadata": {
      "needs_background": "light"
     },
     "output_type": "display_data"
    }
   ],
   "source": [
    "#analyze classes\n",
    "hf = h5py.File(h5_file_name, 'r+')\n",
    "counter = [0] * 18\n",
    "\n",
    "for i in range(len(hf['ex_output'])):\n",
    "    idx = list(hf['ex_output'][i]).index(1)\n",
    "    counter[idx] = counter[idx] + 1\n",
    "\n",
    "print(counter)\n",
    "plt.bar(range(0,18),counter)\n",
    "hf.close()"
   ]
  },
  {
   "cell_type": "code",
   "execution_count": 21,
   "metadata": {},
   "outputs": [],
   "source": [
    "#Equalize representation of classes\n",
    "hf = h5py.File(h5_file_name, 'r+')\n",
    "def equalize_representation(hf_file, class_counter, n_classes=6):\n",
    "    for i in range(len(hf_file['ex_output'])):\n",
    "        idx = list(hf['ex_output'][i]).index(1)\n",
    "        \n",
    "        if (np.random.rand() < (float(min(counter)) / counter[idx])):\n",
    "            if 'ex_input_image_idx_equalized' in hf_file.keys():\n",
    "                hf_file['ex_input_image_idx_equalized'].resize(len(hf_file['ex_input_image_idx_equalized']) + 1, axis=0)\n",
    "                hf_file[\"ex_input_image_idx_equalized\"][len(hf_file['ex_input_image_idx_equalized'])-1] = hf_file['ex_input_image_idx'][i]\n",
    "\n",
    "                hf_file['ex_output_equalized'].resize(len(hf_file['ex_output_equalized']) + 1, axis=0)\n",
    "                hf_file[\"ex_output_equalized\"][len(hf_file['ex_output_equalized'])-1] = hf['ex_output'][i]\n",
    "            else:\n",
    "                hf_file.create_dataset('ex_input_image_idx_equalized', data=[hf_file['ex_input_image_idx'][i]], maxshape=(None,None))\n",
    "                hf_file.create_dataset('ex_output_equalized', data=[hf_file['ex_output'][i]], maxshape=(None, None))\n",
    "\n",
    "equalize_representation(hf, counter)"
   ]
  },
  {
   "cell_type": "code",
   "execution_count": 22,
   "metadata": {},
   "outputs": [
    {
     "name": "stdout",
     "output_type": "stream",
     "text": [
      "[57, 60, 60, 60, 60, 60, 60, 60, 60, 60, 60, 60, 60, 60, 60, 60, 60, 60]\n"
     ]
    },
    {
     "data": {
      "text/plain": [
       "<BarContainer object of 18 artists>"
      ]
     },
     "execution_count": 22,
     "metadata": {},
     "output_type": "execute_result"
    },
    {
     "data": {
      "image/png": "[encoded data removed]",
      "text/plain": [
       "<Figure size 432x288 with 1 Axes>"
      ]
     },
     "metadata": {
      "needs_background": "light"
     },
     "output_type": "display_data"
    }
   ],
   "source": [
    "new_counter = [0] * 18\n",
    "\n",
    "for i in range(len(hf['ex_output_equalized'])):\n",
    "    idx = list(hf['ex_output_equalized'][i]).index(1)\n",
    "    new_counter[idx] = new_counter[idx] + 1\n",
    "\n",
    "print(new_counter)\n",
    "plt.bar(range(0,18),new_counter)"
   ]
  },
  {
   "cell_type": "code",
   "execution_count": 23,
   "metadata": {},
   "outputs": [],
   "source": [
    "hf.close()"
   ]
  },
  {
   "cell_type": "code",
   "execution_count": null,
   "metadata": {},
   "outputs": [],
   "source": []
  },
  {
   "cell_type": "code",
   "execution_count": null,
   "metadata": {},
   "outputs": [],
   "source": []
  }
 ],
 "metadata": {
  "kernelspec": {
   "display_name": "Python 3.6.9 64-bit",
   "language": "python",
   "name": "python36964bit42cfdd42f3ee49b6bf93335b6b0cdf92"
  },
  "language_info": {
   "codemirror_mode": {
    "name": "ipython",
    "version": 3
   },
   "file_extension": ".py",
   "mimetype": "text/x-python",
   "name": "python",
   "nbconvert_exporter": "python",
   "pygments_lexer": "ipython3",
   "version": "3.6.9"
  }
 },
 "nbformat": 4,
 "nbformat_minor": 4
}